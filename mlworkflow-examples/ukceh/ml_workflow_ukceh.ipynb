{
  "nbformat": 4,
  "nbformat_minor": 0,
  "metadata": {
    "colab": {
      "provenance": []
    },
    "kernelspec": {
      "name": "python3",
      "display_name": "Python 3"
    },
    "language_info": {
      "name": "python"
    },
    "widgets": {
      "application/vnd.jupyter.widget-state+json": {
        "e73898c516104811a91ce453cc7d2cb5": {
          "model_module": "@jupyter-widgets/controls",
          "model_name": "HBoxModel",
          "model_module_version": "1.5.0",
          "state": {
            "_dom_classes": [],
            "_model_module": "@jupyter-widgets/controls",
            "_model_module_version": "1.5.0",
            "_model_name": "HBoxModel",
            "_view_count": null,
            "_view_module": "@jupyter-widgets/controls",
            "_view_module_version": "1.5.0",
            "_view_name": "HBoxView",
            "box_style": "",
            "children": [
              "IPY_MODEL_700480e86bc645ac8fd5117be1e1b454",
              "IPY_MODEL_c27aeb071896488fabdb56703de211c1",
              "IPY_MODEL_7523edfa9eb6413196d4d66bd7f671cb"
            ],
            "layout": "IPY_MODEL_f85a58ac3b3148a8bf4fa2cb588adb94"
          }
        },
        "700480e86bc645ac8fd5117be1e1b454": {
          "model_module": "@jupyter-widgets/controls",
          "model_name": "HTMLModel",
          "model_module_version": "1.5.0",
          "state": {
            "_dom_classes": [],
            "_model_module": "@jupyter-widgets/controls",
            "_model_module_version": "1.5.0",
            "_model_name": "HTMLModel",
            "_view_count": null,
            "_view_module": "@jupyter-widgets/controls",
            "_view_module_version": "1.5.0",
            "_view_name": "HTMLView",
            "description": "",
            "description_tooltip": null,
            "layout": "IPY_MODEL_2a15d0f3b07c445e9e7af1cad229870c",
            "placeholder": "​",
            "style": "IPY_MODEL_7307ca6f49e040729637326ff4e00435",
            "value": "Generating splits...: 100%"
          }
        },
        "c27aeb071896488fabdb56703de211c1": {
          "model_module": "@jupyter-widgets/controls",
          "model_name": "FloatProgressModel",
          "model_module_version": "1.5.0",
          "state": {
            "_dom_classes": [],
            "_model_module": "@jupyter-widgets/controls",
            "_model_module_version": "1.5.0",
            "_model_name": "FloatProgressModel",
            "_view_count": null,
            "_view_module": "@jupyter-widgets/controls",
            "_view_module_version": "1.5.0",
            "_view_name": "ProgressView",
            "bar_style": "",
            "description": "",
            "description_tooltip": null,
            "layout": "IPY_MODEL_885c0def29db45f99d0ca99364efe755",
            "max": 1,
            "min": 0,
            "orientation": "horizontal",
            "style": "IPY_MODEL_7420a5fac2e9426dbcdccd9e1712cc7c",
            "value": 1
          }
        },
        "7523edfa9eb6413196d4d66bd7f671cb": {
          "model_module": "@jupyter-widgets/controls",
          "model_name": "HTMLModel",
          "model_module_version": "1.5.0",
          "state": {
            "_dom_classes": [],
            "_model_module": "@jupyter-widgets/controls",
            "_model_module_version": "1.5.0",
            "_model_name": "HTMLModel",
            "_view_count": null,
            "_view_module": "@jupyter-widgets/controls",
            "_view_module_version": "1.5.0",
            "_view_name": "HTMLView",
            "description": "",
            "description_tooltip": null,
            "layout": "IPY_MODEL_304f89db15314d259c64af9900f66966",
            "placeholder": "​",
            "style": "IPY_MODEL_4260f90fe9ba451ba9bb8b6cedb7a7c5",
            "value": " 1/1 [00:02&lt;00:00,  2.73s/ splits]"
          }
        },
        "f85a58ac3b3148a8bf4fa2cb588adb94": {
          "model_module": "@jupyter-widgets/base",
          "model_name": "LayoutModel",
          "model_module_version": "1.2.0",
          "state": {
            "_model_module": "@jupyter-widgets/base",
            "_model_module_version": "1.2.0",
            "_model_name": "LayoutModel",
            "_view_count": null,
            "_view_module": "@jupyter-widgets/base",
            "_view_module_version": "1.2.0",
            "_view_name": "LayoutView",
            "align_content": null,
            "align_items": null,
            "align_self": null,
            "border": null,
            "bottom": null,
            "display": null,
            "flex": null,
            "flex_flow": null,
            "grid_area": null,
            "grid_auto_columns": null,
            "grid_auto_flow": null,
            "grid_auto_rows": null,
            "grid_column": null,
            "grid_gap": null,
            "grid_row": null,
            "grid_template_areas": null,
            "grid_template_columns": null,
            "grid_template_rows": null,
            "height": null,
            "justify_content": null,
            "justify_items": null,
            "left": null,
            "margin": null,
            "max_height": null,
            "max_width": null,
            "min_height": null,
            "min_width": null,
            "object_fit": null,
            "object_position": null,
            "order": null,
            "overflow": null,
            "overflow_x": null,
            "overflow_y": null,
            "padding": null,
            "right": null,
            "top": null,
            "visibility": "hidden",
            "width": null
          }
        },
        "2a15d0f3b07c445e9e7af1cad229870c": {
          "model_module": "@jupyter-widgets/base",
          "model_name": "LayoutModel",
          "model_module_version": "1.2.0",
          "state": {
            "_model_module": "@jupyter-widgets/base",
            "_model_module_version": "1.2.0",
            "_model_name": "LayoutModel",
            "_view_count": null,
            "_view_module": "@jupyter-widgets/base",
            "_view_module_version": "1.2.0",
            "_view_name": "LayoutView",
            "align_content": null,
            "align_items": null,
            "align_self": null,
            "border": null,
            "bottom": null,
            "display": null,
            "flex": null,
            "flex_flow": null,
            "grid_area": null,
            "grid_auto_columns": null,
            "grid_auto_flow": null,
            "grid_auto_rows": null,
            "grid_column": null,
            "grid_gap": null,
            "grid_row": null,
            "grid_template_areas": null,
            "grid_template_columns": null,
            "grid_template_rows": null,
            "height": null,
            "justify_content": null,
            "justify_items": null,
            "left": null,
            "margin": null,
            "max_height": null,
            "max_width": null,
            "min_height": null,
            "min_width": null,
            "object_fit": null,
            "object_position": null,
            "order": null,
            "overflow": null,
            "overflow_x": null,
            "overflow_y": null,
            "padding": null,
            "right": null,
            "top": null,
            "visibility": null,
            "width": null
          }
        },
        "7307ca6f49e040729637326ff4e00435": {
          "model_module": "@jupyter-widgets/controls",
          "model_name": "DescriptionStyleModel",
          "model_module_version": "1.5.0",
          "state": {
            "_model_module": "@jupyter-widgets/controls",
            "_model_module_version": "1.5.0",
            "_model_name": "DescriptionStyleModel",
            "_view_count": null,
            "_view_module": "@jupyter-widgets/base",
            "_view_module_version": "1.2.0",
            "_view_name": "StyleView",
            "description_width": ""
          }
        },
        "885c0def29db45f99d0ca99364efe755": {
          "model_module": "@jupyter-widgets/base",
          "model_name": "LayoutModel",
          "model_module_version": "1.2.0",
          "state": {
            "_model_module": "@jupyter-widgets/base",
            "_model_module_version": "1.2.0",
            "_model_name": "LayoutModel",
            "_view_count": null,
            "_view_module": "@jupyter-widgets/base",
            "_view_module_version": "1.2.0",
            "_view_name": "LayoutView",
            "align_content": null,
            "align_items": null,
            "align_self": null,
            "border": null,
            "bottom": null,
            "display": null,
            "flex": null,
            "flex_flow": null,
            "grid_area": null,
            "grid_auto_columns": null,
            "grid_auto_flow": null,
            "grid_auto_rows": null,
            "grid_column": null,
            "grid_gap": null,
            "grid_row": null,
            "grid_template_areas": null,
            "grid_template_columns": null,
            "grid_template_rows": null,
            "height": null,
            "justify_content": null,
            "justify_items": null,
            "left": null,
            "margin": null,
            "max_height": null,
            "max_width": null,
            "min_height": null,
            "min_width": null,
            "object_fit": null,
            "object_position": null,
            "order": null,
            "overflow": null,
            "overflow_x": null,
            "overflow_y": null,
            "padding": null,
            "right": null,
            "top": null,
            "visibility": null,
            "width": null
          }
        },
        "7420a5fac2e9426dbcdccd9e1712cc7c": {
          "model_module": "@jupyter-widgets/controls",
          "model_name": "ProgressStyleModel",
          "model_module_version": "1.5.0",
          "state": {
            "_model_module": "@jupyter-widgets/controls",
            "_model_module_version": "1.5.0",
            "_model_name": "ProgressStyleModel",
            "_view_count": null,
            "_view_module": "@jupyter-widgets/base",
            "_view_module_version": "1.2.0",
            "_view_name": "StyleView",
            "bar_color": null,
            "description_width": ""
          }
        },
        "304f89db15314d259c64af9900f66966": {
          "model_module": "@jupyter-widgets/base",
          "model_name": "LayoutModel",
          "model_module_version": "1.2.0",
          "state": {
            "_model_module": "@jupyter-widgets/base",
            "_model_module_version": "1.2.0",
            "_model_name": "LayoutModel",
            "_view_count": null,
            "_view_module": "@jupyter-widgets/base",
            "_view_module_version": "1.2.0",
            "_view_name": "LayoutView",
            "align_content": null,
            "align_items": null,
            "align_self": null,
            "border": null,
            "bottom": null,
            "display": null,
            "flex": null,
            "flex_flow": null,
            "grid_area": null,
            "grid_auto_columns": null,
            "grid_auto_flow": null,
            "grid_auto_rows": null,
            "grid_column": null,
            "grid_gap": null,
            "grid_row": null,
            "grid_template_areas": null,
            "grid_template_columns": null,
            "grid_template_rows": null,
            "height": null,
            "justify_content": null,
            "justify_items": null,
            "left": null,
            "margin": null,
            "max_height": null,
            "max_width": null,
            "min_height": null,
            "min_width": null,
            "object_fit": null,
            "object_position": null,
            "order": null,
            "overflow": null,
            "overflow_x": null,
            "overflow_y": null,
            "padding": null,
            "right": null,
            "top": null,
            "visibility": null,
            "width": null
          }
        },
        "4260f90fe9ba451ba9bb8b6cedb7a7c5": {
          "model_module": "@jupyter-widgets/controls",
          "model_name": "DescriptionStyleModel",
          "model_module_version": "1.5.0",
          "state": {
            "_model_module": "@jupyter-widgets/controls",
            "_model_module_version": "1.5.0",
            "_model_name": "DescriptionStyleModel",
            "_view_count": null,
            "_view_module": "@jupyter-widgets/base",
            "_view_module_version": "1.2.0",
            "_view_name": "StyleView",
            "description_width": ""
          }
        }
      }
    }
  },
  "cells": [
    {
      "cell_type": "markdown",
      "source": [
        "# Using Croissant in Machine Learning Pipelines 🥐"
      ],
      "metadata": {
        "id": "t2xHFA01-aKy"
      }
    },
    {
      "cell_type": "markdown",
      "source": [
        "Croissant provides a single-file JSON-LD format for Machine Learning (ML) datasets that contains information about data sources, data structure and relevant additional metadata. The standardized format aims to improve the discoverability, accessibility, and interoperability of ML datasets. In this notebook we'll demonstrate using an example croissant file (linked to a dataset from the UKCEH Environment Information Data Centre (EIDC)) in an ML-pipeline."
      ],
      "metadata": {
        "id": "S_5oWWpW-cIx"
      }
    },
    {
      "cell_type": "code",
      "source": [
        "# Installing necessary libraries\n",
        "%%capture --no-display\n",
        "# Install mlcroissant from the source\n",
        "!apt-get install -y python3-dev graphviz libgraphviz-dev pkg-config\n",
        "!pip install \"git+https://github.com/${GITHUB_REPOSITORY:-mlcommons/croissant}.git@${GITHUB_HEAD_REF:-main}#subdirectory=python/mlcroissant&egg=mlcroissant[dev]\"\n",
        "!pip install array_record\n",
        "!pip install tfds-nightly\n",
        "!pip install tensorflow\n",
        "!pip install torch\n",
        "!apt-get install tree"
      ],
      "metadata": {
        "id": "ttVGE4Ep-eyG"
      },
      "execution_count": 1,
      "outputs": []
    },
    {
      "cell_type": "code",
      "source": [
        "# Importing necessary libraries\n",
        "from mlcroissant import Dataset\n",
        "import tensorflow_datasets as tfds\n",
        "import torch\n",
        "from tqdm import tqdm\n",
        "import pandas as pd\n",
        "from sklearn.model_selection import train_test_split\n",
        "from sklearn.neural_network import MLPRegressor\n",
        "from sklearn.metrics import mean_squared_error, r2_score"
      ],
      "metadata": {
        "id": "A_Qr-Cil-gXP"
      },
      "execution_count": 2,
      "outputs": []
    },
    {
      "cell_type": "markdown",
      "source": [
        "## Loading the data"
      ],
      "metadata": {
        "id": "-PXm0FHh-kXD"
      }
    },
    {
      "cell_type": "markdown",
      "source": [
        "Currently the underlying data described in the croissant file can be loaded directly using either the [mlcroissant](https://github.com/mlcommons/croissant/tree/main/python/mlcroissant) python library or the [tensorflow croissant builder](https://www.tensorflow.org/datasets/format_specific_dataset_builders#croissantbuilder). Here we'll demonstrate both."
      ],
      "metadata": {
        "id": "f_qbWlfS-lPE"
      }
    },
    {
      "cell_type": "code",
      "source": [
        "# Load the dataset from the croissant file using mlcroissant\n",
        "croissant_file_path = \"/tmp/croissantSpikeZip.json\" #\"../../croissantSpikeZip.json\"\n",
        "dataset = Dataset(jsonld=croissant_file_path)  # Use mlc.Dataset to parse Croissant metadata\n",
        "metadata = dataset.metadata.to_json() # Convert the metadata to a JSON object\n",
        "records = dataset.records(record_set=\"rs-abberfraw\") # Extract records from the dataset\n",
        "print(metadata['description']) # Display the description of the dataset\n",
        "df = pd.DataFrame(records) # Convert the records to a pandas dataframe\n",
        "print(df.dtypes) # Display the datatypes of the columns\n",
        "df[:5] # Display the first 5 records"
      ],
      "metadata": {
        "colab": {
          "base_uri": "https://localhost:8080/",
          "height": 397
        },
        "id": "ACkp4673-qB_",
        "outputId": "531bfa1e-1ef3-49a4-a189-452e2db64edb"
      },
      "execution_count": 10,
      "outputs": [
        {
          "output_type": "display_data",
          "data": {
            "text/plain": [
              "<IPython.core.display.HTML object>"
            ],
            "text/html": [
              "\n",
              "  <style>\n",
              "    pre {\n",
              "        white-space: pre-wrap;\n",
              "    }\n",
              "  </style>\n",
              "  "
            ]
          },
          "metadata": {}
        },
        {
          "output_type": "stream",
          "name": "stdout",
          "text": [
            "This data contains values of bare sand area, modelled wind speed, aspect and slope at a 2.5 m spatial resolution for four UK coastal dune fields, Abberfraw (Wales), Ainsdale (England), Morfa Dyffryn (Wales), Penhale (England). Data is stored as a .csv file. Data is available for 620,756.25 m2 of dune at Abberfraw, 550,962.5 m2 of dune at Ainsdale, 1,797,756.25 m2 of dune at Morfa Dyffryn and 2,275,056.25 m2 of dune at Penhale. All values were calculated from aerial imagery and digital terrain models collected between 2014 and 2016.\n",
            "id                int64\n",
            "X               float64\n",
            "Y               float64\n",
            "Aspect          float64\n",
            "Slope           float64\n",
            "WindSpeed       float64\n",
            "BareSand_it1    float64\n",
            "dtype: object\n"
          ]
        },
        {
          "output_type": "execute_result",
          "data": {
            "text/plain": [
              "      id          X          Y      Aspect      Slope  WindSpeed  BareSand_it1\n",
              "0  91619  235341.25  368183.75  147.395590   5.947186   1.552845          34.0\n",
              "1  91620  235341.25  368181.25  183.392563   7.696039   1.610589          40.0\n",
              "2  91621  235341.25  368178.75  174.296432   5.170790   1.567760          16.0\n",
              "3  91622  235341.25  368176.25  264.810909   2.708107   1.461571          16.0\n",
              "4  91623  235341.25  368173.75  172.195933  11.810599   1.431683           4.0"
            ],
            "text/html": [
              "\n",
              "  <div id=\"df-27d628fb-3824-4239-b7c0-0c80b9601f3c\" class=\"colab-df-container\">\n",
              "    <div>\n",
              "<style scoped>\n",
              "    .dataframe tbody tr th:only-of-type {\n",
              "        vertical-align: middle;\n",
              "    }\n",
              "\n",
              "    .dataframe tbody tr th {\n",
              "        vertical-align: top;\n",
              "    }\n",
              "\n",
              "    .dataframe thead th {\n",
              "        text-align: right;\n",
              "    }\n",
              "</style>\n",
              "<table border=\"1\" class=\"dataframe\">\n",
              "  <thead>\n",
              "    <tr style=\"text-align: right;\">\n",
              "      <th></th>\n",
              "      <th>id</th>\n",
              "      <th>X</th>\n",
              "      <th>Y</th>\n",
              "      <th>Aspect</th>\n",
              "      <th>Slope</th>\n",
              "      <th>WindSpeed</th>\n",
              "      <th>BareSand_it1</th>\n",
              "    </tr>\n",
              "  </thead>\n",
              "  <tbody>\n",
              "    <tr>\n",
              "      <th>0</th>\n",
              "      <td>91619</td>\n",
              "      <td>235341.25</td>\n",
              "      <td>368183.75</td>\n",
              "      <td>147.395590</td>\n",
              "      <td>5.947186</td>\n",
              "      <td>1.552845</td>\n",
              "      <td>34.0</td>\n",
              "    </tr>\n",
              "    <tr>\n",
              "      <th>1</th>\n",
              "      <td>91620</td>\n",
              "      <td>235341.25</td>\n",
              "      <td>368181.25</td>\n",
              "      <td>183.392563</td>\n",
              "      <td>7.696039</td>\n",
              "      <td>1.610589</td>\n",
              "      <td>40.0</td>\n",
              "    </tr>\n",
              "    <tr>\n",
              "      <th>2</th>\n",
              "      <td>91621</td>\n",
              "      <td>235341.25</td>\n",
              "      <td>368178.75</td>\n",
              "      <td>174.296432</td>\n",
              "      <td>5.170790</td>\n",
              "      <td>1.567760</td>\n",
              "      <td>16.0</td>\n",
              "    </tr>\n",
              "    <tr>\n",
              "      <th>3</th>\n",
              "      <td>91622</td>\n",
              "      <td>235341.25</td>\n",
              "      <td>368176.25</td>\n",
              "      <td>264.810909</td>\n",
              "      <td>2.708107</td>\n",
              "      <td>1.461571</td>\n",
              "      <td>16.0</td>\n",
              "    </tr>\n",
              "    <tr>\n",
              "      <th>4</th>\n",
              "      <td>91623</td>\n",
              "      <td>235341.25</td>\n",
              "      <td>368173.75</td>\n",
              "      <td>172.195933</td>\n",
              "      <td>11.810599</td>\n",
              "      <td>1.431683</td>\n",
              "      <td>4.0</td>\n",
              "    </tr>\n",
              "  </tbody>\n",
              "</table>\n",
              "</div>\n",
              "    <div class=\"colab-df-buttons\">\n",
              "\n",
              "  <div class=\"colab-df-container\">\n",
              "    <button class=\"colab-df-convert\" onclick=\"convertToInteractive('df-27d628fb-3824-4239-b7c0-0c80b9601f3c')\"\n",
              "            title=\"Convert this dataframe to an interactive table.\"\n",
              "            style=\"display:none;\">\n",
              "\n",
              "  <svg xmlns=\"http://www.w3.org/2000/svg\" height=\"24px\" viewBox=\"0 -960 960 960\">\n",
              "    <path d=\"M120-120v-720h720v720H120Zm60-500h600v-160H180v160Zm220 220h160v-160H400v160Zm0 220h160v-160H400v160ZM180-400h160v-160H180v160Zm440 0h160v-160H620v160ZM180-180h160v-160H180v160Zm440 0h160v-160H620v160Z\"/>\n",
              "  </svg>\n",
              "    </button>\n",
              "\n",
              "  <style>\n",
              "    .colab-df-container {\n",
              "      display:flex;\n",
              "      gap: 12px;\n",
              "    }\n",
              "\n",
              "    .colab-df-convert {\n",
              "      background-color: #E8F0FE;\n",
              "      border: none;\n",
              "      border-radius: 50%;\n",
              "      cursor: pointer;\n",
              "      display: none;\n",
              "      fill: #1967D2;\n",
              "      height: 32px;\n",
              "      padding: 0 0 0 0;\n",
              "      width: 32px;\n",
              "    }\n",
              "\n",
              "    .colab-df-convert:hover {\n",
              "      background-color: #E2EBFA;\n",
              "      box-shadow: 0px 1px 2px rgba(60, 64, 67, 0.3), 0px 1px 3px 1px rgba(60, 64, 67, 0.15);\n",
              "      fill: #174EA6;\n",
              "    }\n",
              "\n",
              "    .colab-df-buttons div {\n",
              "      margin-bottom: 4px;\n",
              "    }\n",
              "\n",
              "    [theme=dark] .colab-df-convert {\n",
              "      background-color: #3B4455;\n",
              "      fill: #D2E3FC;\n",
              "    }\n",
              "\n",
              "    [theme=dark] .colab-df-convert:hover {\n",
              "      background-color: #434B5C;\n",
              "      box-shadow: 0px 1px 3px 1px rgba(0, 0, 0, 0.15);\n",
              "      filter: drop-shadow(0px 1px 2px rgba(0, 0, 0, 0.3));\n",
              "      fill: #FFFFFF;\n",
              "    }\n",
              "  </style>\n",
              "\n",
              "    <script>\n",
              "      const buttonEl =\n",
              "        document.querySelector('#df-27d628fb-3824-4239-b7c0-0c80b9601f3c button.colab-df-convert');\n",
              "      buttonEl.style.display =\n",
              "        google.colab.kernel.accessAllowed ? 'block' : 'none';\n",
              "\n",
              "      async function convertToInteractive(key) {\n",
              "        const element = document.querySelector('#df-27d628fb-3824-4239-b7c0-0c80b9601f3c');\n",
              "        const dataTable =\n",
              "          await google.colab.kernel.invokeFunction('convertToInteractive',\n",
              "                                                    [key], {});\n",
              "        if (!dataTable) return;\n",
              "\n",
              "        const docLinkHtml = 'Like what you see? Visit the ' +\n",
              "          '<a target=\"_blank\" href=https://colab.research.google.com/notebooks/data_table.ipynb>data table notebook</a>'\n",
              "          + ' to learn more about interactive tables.';\n",
              "        element.innerHTML = '';\n",
              "        dataTable['output_type'] = 'display_data';\n",
              "        await google.colab.output.renderOutput(dataTable, element);\n",
              "        const docLink = document.createElement('div');\n",
              "        docLink.innerHTML = docLinkHtml;\n",
              "        element.appendChild(docLink);\n",
              "      }\n",
              "    </script>\n",
              "  </div>\n",
              "\n",
              "\n",
              "<div id=\"df-438079eb-68f7-435a-9cbe-800271b73630\">\n",
              "  <button class=\"colab-df-quickchart\" onclick=\"quickchart('df-438079eb-68f7-435a-9cbe-800271b73630')\"\n",
              "            title=\"Suggest charts\"\n",
              "            style=\"display:none;\">\n",
              "\n",
              "<svg xmlns=\"http://www.w3.org/2000/svg\" height=\"24px\"viewBox=\"0 0 24 24\"\n",
              "     width=\"24px\">\n",
              "    <g>\n",
              "        <path d=\"M19 3H5c-1.1 0-2 .9-2 2v14c0 1.1.9 2 2 2h14c1.1 0 2-.9 2-2V5c0-1.1-.9-2-2-2zM9 17H7v-7h2v7zm4 0h-2V7h2v10zm4 0h-2v-4h2v4z\"/>\n",
              "    </g>\n",
              "</svg>\n",
              "  </button>\n",
              "\n",
              "<style>\n",
              "  .colab-df-quickchart {\n",
              "      --bg-color: #E8F0FE;\n",
              "      --fill-color: #1967D2;\n",
              "      --hover-bg-color: #E2EBFA;\n",
              "      --hover-fill-color: #174EA6;\n",
              "      --disabled-fill-color: #AAA;\n",
              "      --disabled-bg-color: #DDD;\n",
              "  }\n",
              "\n",
              "  [theme=dark] .colab-df-quickchart {\n",
              "      --bg-color: #3B4455;\n",
              "      --fill-color: #D2E3FC;\n",
              "      --hover-bg-color: #434B5C;\n",
              "      --hover-fill-color: #FFFFFF;\n",
              "      --disabled-bg-color: #3B4455;\n",
              "      --disabled-fill-color: #666;\n",
              "  }\n",
              "\n",
              "  .colab-df-quickchart {\n",
              "    background-color: var(--bg-color);\n",
              "    border: none;\n",
              "    border-radius: 50%;\n",
              "    cursor: pointer;\n",
              "    display: none;\n",
              "    fill: var(--fill-color);\n",
              "    height: 32px;\n",
              "    padding: 0;\n",
              "    width: 32px;\n",
              "  }\n",
              "\n",
              "  .colab-df-quickchart:hover {\n",
              "    background-color: var(--hover-bg-color);\n",
              "    box-shadow: 0 1px 2px rgba(60, 64, 67, 0.3), 0 1px 3px 1px rgba(60, 64, 67, 0.15);\n",
              "    fill: var(--button-hover-fill-color);\n",
              "  }\n",
              "\n",
              "  .colab-df-quickchart-complete:disabled,\n",
              "  .colab-df-quickchart-complete:disabled:hover {\n",
              "    background-color: var(--disabled-bg-color);\n",
              "    fill: var(--disabled-fill-color);\n",
              "    box-shadow: none;\n",
              "  }\n",
              "\n",
              "  .colab-df-spinner {\n",
              "    border: 2px solid var(--fill-color);\n",
              "    border-color: transparent;\n",
              "    border-bottom-color: var(--fill-color);\n",
              "    animation:\n",
              "      spin 1s steps(1) infinite;\n",
              "  }\n",
              "\n",
              "  @keyframes spin {\n",
              "    0% {\n",
              "      border-color: transparent;\n",
              "      border-bottom-color: var(--fill-color);\n",
              "      border-left-color: var(--fill-color);\n",
              "    }\n",
              "    20% {\n",
              "      border-color: transparent;\n",
              "      border-left-color: var(--fill-color);\n",
              "      border-top-color: var(--fill-color);\n",
              "    }\n",
              "    30% {\n",
              "      border-color: transparent;\n",
              "      border-left-color: var(--fill-color);\n",
              "      border-top-color: var(--fill-color);\n",
              "      border-right-color: var(--fill-color);\n",
              "    }\n",
              "    40% {\n",
              "      border-color: transparent;\n",
              "      border-right-color: var(--fill-color);\n",
              "      border-top-color: var(--fill-color);\n",
              "    }\n",
              "    60% {\n",
              "      border-color: transparent;\n",
              "      border-right-color: var(--fill-color);\n",
              "    }\n",
              "    80% {\n",
              "      border-color: transparent;\n",
              "      border-right-color: var(--fill-color);\n",
              "      border-bottom-color: var(--fill-color);\n",
              "    }\n",
              "    90% {\n",
              "      border-color: transparent;\n",
              "      border-bottom-color: var(--fill-color);\n",
              "    }\n",
              "  }\n",
              "</style>\n",
              "\n",
              "  <script>\n",
              "    async function quickchart(key) {\n",
              "      const quickchartButtonEl =\n",
              "        document.querySelector('#' + key + ' button');\n",
              "      quickchartButtonEl.disabled = true;  // To prevent multiple clicks.\n",
              "      quickchartButtonEl.classList.add('colab-df-spinner');\n",
              "      try {\n",
              "        const charts = await google.colab.kernel.invokeFunction(\n",
              "            'suggestCharts', [key], {});\n",
              "      } catch (error) {\n",
              "        console.error('Error during call to suggestCharts:', error);\n",
              "      }\n",
              "      quickchartButtonEl.classList.remove('colab-df-spinner');\n",
              "      quickchartButtonEl.classList.add('colab-df-quickchart-complete');\n",
              "    }\n",
              "    (() => {\n",
              "      let quickchartButtonEl =\n",
              "        document.querySelector('#df-438079eb-68f7-435a-9cbe-800271b73630 button');\n",
              "      quickchartButtonEl.style.display =\n",
              "        google.colab.kernel.accessAllowed ? 'block' : 'none';\n",
              "    })();\n",
              "  </script>\n",
              "</div>\n",
              "\n",
              "    </div>\n",
              "  </div>\n"
            ],
            "application/vnd.google.colaboratory.intrinsic+json": {
              "type": "dataframe",
              "summary": "{\n  \"name\": \"df[:5] # Display the first 5 records\",\n  \"rows\": 5,\n  \"fields\": [\n    {\n      \"column\": \"id\",\n      \"properties\": {\n        \"dtype\": \"number\",\n        \"std\": 1,\n        \"min\": 91619,\n        \"max\": 91623,\n        \"num_unique_values\": 5,\n        \"samples\": [\n          91620,\n          91623,\n          91621\n        ],\n        \"semantic_type\": \"\",\n        \"description\": \"\"\n      }\n    },\n    {\n      \"column\": \"X\",\n      \"properties\": {\n        \"dtype\": \"number\",\n        \"std\": 0.0,\n        \"min\": 235341.25,\n        \"max\": 235341.25,\n        \"num_unique_values\": 1,\n        \"samples\": [\n          235341.25\n        ],\n        \"semantic_type\": \"\",\n        \"description\": \"\"\n      }\n    },\n    {\n      \"column\": \"Y\",\n      \"properties\": {\n        \"dtype\": \"number\",\n        \"std\": 3.952847075210474,\n        \"min\": 368173.75,\n        \"max\": 368183.75,\n        \"num_unique_values\": 5,\n        \"samples\": [\n          368181.25\n        ],\n        \"semantic_type\": \"\",\n        \"description\": \"\"\n      }\n    },\n    {\n      \"column\": \"Aspect\",\n      \"properties\": {\n        \"dtype\": \"number\",\n        \"std\": 44.739646543500605,\n        \"min\": 147.3955898,\n        \"max\": 264.8109093,\n        \"num_unique_values\": 5,\n        \"samples\": [\n          183.3925629\n        ],\n        \"semantic_type\": \"\",\n        \"description\": \"\"\n      }\n    },\n    {\n      \"column\": \"Slope\",\n      \"properties\": {\n        \"dtype\": \"number\",\n        \"std\": 3.389142219278068,\n        \"min\": 2.708107293,\n        \"max\": 11.81059909,\n        \"num_unique_values\": 5,\n        \"samples\": [\n          7.696038723\n        ],\n        \"semantic_type\": \"\",\n        \"description\": \"\"\n      }\n    },\n    {\n      \"column\": \"WindSpeed\",\n      \"properties\": {\n        \"dtype\": \"number\",\n        \"std\": 0.07526692824165876,\n        \"min\": 1.4316834,\n        \"max\": 1.6105891,\n        \"num_unique_values\": 5,\n        \"samples\": [\n          1.6105891\n        ],\n        \"semantic_type\": \"\",\n        \"description\": \"\"\n      }\n    },\n    {\n      \"column\": \"BareSand_it1\",\n      \"properties\": {\n        \"dtype\": \"number\",\n        \"std\": 14.696938456699069,\n        \"min\": 4.0,\n        \"max\": 40.0,\n        \"num_unique_values\": 4,\n        \"samples\": [\n          40.0\n        ],\n        \"semantic_type\": \"\",\n        \"description\": \"\"\n      }\n    }\n  ]\n}"
            }
          },
          "metadata": {},
          "execution_count": 10
        }
      ]
    },
    {
      "cell_type": "code",
      "source": [
        "# Load the dataset from the croissant file using tensorflow custom builder\n",
        "builder = tfds.core.dataset_builders.CroissantBuilder(\n",
        "    jsonld=\"/tmp/croissantSpikeZip.json\",\n",
        "    record_set_ids=[\"rs-abberfraw\"],\n",
        "    file_format='array_record',\n",
        "    data_dir=\"tmp/ukceh/data/croissant_ukceh\",\n",
        ")\n",
        "print(f\"Dataset's description:\\n{builder.info.description}\\n\")\n",
        "print(f\"Dataset's citation:\\n{builder.info.citation}\\n\")\n",
        "print(f\"Dataset's features:\\n{builder.info.features}\")\n",
        "\n",
        "builder.download_and_prepare() # Download and prepare the dataset\n",
        "train,test = builder.as_data_source(split=['default[:75%]','default[75%:]'])\n",
        "\n",
        "print(f\"Train dataset size: {len(train)}\")\n",
        "print(f\"Test dataset size: {len(test)}\")\n",
        "\n",
        "for i in range(5):\n",
        "  print(train[i])"
      ],
      "metadata": {
        "colab": {
          "base_uri": "https://localhost:8080/",
          "height": 763,
          "referenced_widgets": [
            "e73898c516104811a91ce453cc7d2cb5",
            "700480e86bc645ac8fd5117be1e1b454",
            "c27aeb071896488fabdb56703de211c1",
            "7523edfa9eb6413196d4d66bd7f671cb",
            "f85a58ac3b3148a8bf4fa2cb588adb94",
            "2a15d0f3b07c445e9e7af1cad229870c",
            "7307ca6f49e040729637326ff4e00435",
            "885c0def29db45f99d0ca99364efe755",
            "7420a5fac2e9426dbcdccd9e1712cc7c",
            "304f89db15314d259c64af9900f66966",
            "4260f90fe9ba451ba9bb8b6cedb7a7c5"
          ]
        },
        "id": "STz386lB-r35",
        "outputId": "2aea1fdc-43f0-410c-b1fc-f876d039823e"
      },
      "execution_count": 13,
      "outputs": [
        {
          "output_type": "display_data",
          "data": {
            "text/plain": [
              "<IPython.core.display.HTML object>"
            ],
            "text/html": [
              "\n",
              "  <style>\n",
              "    pre {\n",
              "        white-space: pre-wrap;\n",
              "    }\n",
              "  </style>\n",
              "  "
            ]
          },
          "metadata": {}
        },
        {
          "output_type": "stream",
          "name": "stdout",
          "text": [
            "Dataset's description:\n",
            "This data contains values of bare sand area, modelled wind speed, aspect and slope at a 2.5 m spatial resolution for four UK coastal dune fields, Abberfraw (Wales), Ainsdale (England), Morfa Dyffryn (Wales), Penhale (England). Data is stored as a .csv file. Data is available for 620,756.25 m2 of dune at Abberfraw, 550,962.5 m2 of dune at Ainsdale, 1,797,756.25 m2 of dune at Morfa Dyffryn and 2,275,056.25 m2 of dune at Penhale. All values were calculated from aerial imagery and digital terrain models collected between 2014 and 2016.\n",
            "\n",
            "Dataset's citation:\n",
            "Smyth, T.A.G. (2022). Bare sand, wind speed, aspect and slope at four English and Welsh coastal sand dunes, 2014-2016. NERC EDS Environmental Information Data Centre. https://doi.org/10.5285/972599af-0cc3-4e0e-a4dc-2fab7a6dfc85\n",
            "\n",
            "Dataset's features:\n",
            "FeaturesDict({\n",
            "    'Aspect': float32,\n",
            "    'BareSand_it1': float32,\n",
            "    'Slope': float32,\n",
            "    'WindSpeed': float32,\n",
            "    'X': float32,\n",
            "    'Y': float32,\n",
            "    'id': int64,\n",
            "})\n",
            "Downloading and preparing dataset Unknown size (download: Unknown size, generated: Unknown size, total: Unknown size) to tmp/ukceh/data/croissant_ukceh/dunes_data/rs_abberfraw/1.0.0...\n",
            "**************************** WARNING *********************************\n",
            "Warning: The dataset you're trying to generate is using Apache Beam,\n",
            "yet no `beam_runner` nor `beam_options` was explicitly provided.\n",
            "\n",
            "Some Beam datasets take weeks to generate, so are usually not suited\n",
            "for single machine generation. Please have a look at the instructions\n",
            "to setup distributed generation:\n",
            "\n",
            "https://www.tensorflow.org/datasets/beam_datasets#generating_a_beam_dataset\n",
            "**********************************************************************\n"
          ]
        },
        {
          "output_type": "display_data",
          "data": {
            "text/plain": [
              "Generating splits...:   0%|          | 0/1 [00:00<?, ? splits/s]"
            ],
            "application/vnd.jupyter.widget-view+json": {
              "version_major": 2,
              "version_minor": 0,
              "model_id": "e73898c516104811a91ce453cc7d2cb5"
            }
          },
          "metadata": {}
        },
        {
          "output_type": "stream",
          "name": "stderr",
          "text": [
            "WARNING:apache_beam.runners.interactive.interactive_environment:Dependencies required for Interactive Beam PCollection visualization are not available, please use: `pip install apache-beam[interactive]` to install necessary dependencies to enable all data visualization features.\n"
          ]
        },
        {
          "output_type": "display_data",
          "data": {
            "application/javascript": [
              "\n",
              "        if (typeof window.interactive_beam_jquery == 'undefined') {\n",
              "          var jqueryScript = document.createElement('script');\n",
              "          jqueryScript.src = 'https://code.jquery.com/jquery-3.4.1.slim.min.js';\n",
              "          jqueryScript.type = 'text/javascript';\n",
              "          jqueryScript.onload = function() {\n",
              "            var datatableScript = document.createElement('script');\n",
              "            datatableScript.src = 'https://cdn.datatables.net/1.10.20/js/jquery.dataTables.min.js';\n",
              "            datatableScript.type = 'text/javascript';\n",
              "            datatableScript.onload = function() {\n",
              "              window.interactive_beam_jquery = jQuery.noConflict(true);\n",
              "              window.interactive_beam_jquery(document).ready(function($){\n",
              "                \n",
              "              });\n",
              "            }\n",
              "            document.head.appendChild(datatableScript);\n",
              "          };\n",
              "          document.head.appendChild(jqueryScript);\n",
              "        } else {\n",
              "          window.interactive_beam_jquery(document).ready(function($){\n",
              "            \n",
              "          });\n",
              "        }"
            ]
          },
          "metadata": {}
        },
        {
          "output_type": "stream",
          "name": "stderr",
          "text": [
            "WARNING:apache_beam.transforms.core:('No iterator is returned by the process method in %s.', <class 'apache_beam.transforms.combiners._TopPerBundle'>)\n",
            "WARNING:apache_beam.transforms.core:('No iterator is returned by the process method in %s.', <class 'tensorflow_datasets.core.writer.BeamWriter'>)\n",
            "WARNING:apache_beam.options.pipeline_options:Discarding unparseable args: ['-f', '/root/.local/share/jupyter/runtime/kernel-4c933e15-61e4-493e-ba41-cd206ed0ad49.json']\n"
          ]
        },
        {
          "output_type": "stream",
          "name": "stdout",
          "text": [
            "Dataset dunes_data downloaded and prepared to tmp/ukceh/data/croissant_ukceh/dunes_data/rs_abberfraw/1.0.0. Subsequent calls will reuse this data.\n",
            "Train dataset size: 74491\n",
            "Test dataset size: 24830\n",
            "{'Aspect': 287.2237854003906, 'BareSand_it1': 0.0, 'Slope': 0.9244160652160645, 'WindSpeed': 1.1475861072540283, 'X': 235566.25, 'Y': 368331.25, 'id': 140520}\n",
            "{'Aspect': 136.97999572753906, 'BareSand_it1': 52.0, 'Slope': 21.083030700683594, 'WindSpeed': 1.300819754600525, 'X': 235916.25, 'Y': 368126.25, 'id': 216762}\n",
            "{'Aspect': 321.24542236328125, 'BareSand_it1': 0.0, 'Slope': 0.5721451044082642, 'WindSpeed': 1.1989078521728516, 'X': 235848.75, 'Y': 368176.25, 'id': 202054}\n",
            "{'Aspect': 196.46060180664062, 'BareSand_it1': 0.0, 'Slope': 20.84337615966797, 'WindSpeed': 0.4321769177913666, 'X': 235551.25, 'Y': 367951.25, 'id': 137408}\n",
            "{'Aspect': 272.1617431640625, 'BareSand_it1': 23.0, 'Slope': 25.392925262451172, 'WindSpeed': 1.6483949422836304, 'X': 235766.25, 'Y': 367766.25, 'id': 184266}\n"
          ]
        }
      ]
    },
    {
      "cell_type": "markdown",
      "source": [
        "## Machine Learning Pipelines"
      ],
      "metadata": {
        "id": "ROrTLd9Y-nOO"
      }
    },
    {
      "cell_type": "markdown",
      "source": [
        "The focus here is simply to demonstrate that after loading the data from the croissant file it can then easily be put through various ML frameworks. To highlight this we show a scikit-learn pipeline that ingests a pandas dataframe and we show a PyTorch pipeline that ingests the data source provided by the tensorflow croissant builder. It is noted that the specific details of the model and inputs/outputs are not significant and aren't related to a sensible scientific question."
      ],
      "metadata": {
        "id": "TvCatAh2-u7z"
      }
    },
    {
      "cell_type": "markdown",
      "source": [
        "### sci-kit learn Pipeline"
      ],
      "metadata": {
        "id": "dLfec4Uw-wcC"
      }
    },
    {
      "cell_type": "markdown",
      "source": [
        "The provided code defines and trains a neural network model to predict the proportion of sand in an image from the wind speed, degree of slope and aspect. The multi-layer perceptron regressor from scikit-learn is used."
      ],
      "metadata": {
        "id": "tlnczhDm-yee"
      }
    },
    {
      "cell_type": "code",
      "source": [
        "# Define features and target variable\n",
        "X = df[[\"WindSpeed\", \"Aspect\", \"Slope\"]]\n",
        "y = df[\"BareSand_it1\"]\n",
        "\n",
        "# Split dataset into training and test sets\n",
        "X_train, X_test, y_train, y_test = train_test_split(X, y, test_size=0.2, random_state=42)\n",
        "\n",
        "# Train a simple regression model\n",
        "model = MLPRegressor(hidden_layer_sizes=(64, 32), activation='relu', solver='adam', max_iter=500, random_state=42)\n",
        "model.fit(X_train, y_train)\n",
        "\n",
        "# Make predictions\n",
        "y_train_pred = model.predict(X_train)  # Predictions on training set\n",
        "y_test_pred = model.predict(X_test)  # Predictions on test set\n",
        "\n",
        "# Evaluate the model\n",
        "mse_train = mean_squared_error(y_train, y_train_pred)\n",
        "r2_train = r2_score(y_train, y_train_pred)\n",
        "mse_test = mean_squared_error(y_test, y_test_pred)\n",
        "r2_test = r2_score(y_test, y_test_pred)\n",
        "\n",
        "print(f\"Training Set - Mean Squared Error: {mse_train}\")\n",
        "print(f\"Training Set - R-squared Value: {r2_train}\")\n",
        "print(f\"Test Set - Mean Squared Error: {mse_test}\")\n",
        "print(f\"Test Set - R-squared Value: {r2_test}\")"
      ],
      "metadata": {
        "colab": {
          "base_uri": "https://localhost:8080/",
          "height": 86
        },
        "id": "AH3tsTZs-0DX",
        "outputId": "d3f10b7a-fcf1-4122-9399-5667cd648186"
      },
      "execution_count": 14,
      "outputs": [
        {
          "output_type": "display_data",
          "data": {
            "text/plain": [
              "<IPython.core.display.HTML object>"
            ],
            "text/html": [
              "\n",
              "  <style>\n",
              "    pre {\n",
              "        white-space: pre-wrap;\n",
              "    }\n",
              "  </style>\n",
              "  "
            ]
          },
          "metadata": {}
        },
        {
          "output_type": "stream",
          "name": "stdout",
          "text": [
            "Training Set - Mean Squared Error: 341.48951488524585\n",
            "Training Set - R-squared Value: 0.2747990692314274\n",
            "Test Set - Mean Squared Error: 339.5967938543819\n",
            "Test Set - R-squared Value: 0.26746100024057673\n"
          ]
        }
      ]
    },
    {
      "cell_type": "markdown",
      "source": [
        "The MSE and R-squared performance metrics are poor, which is as expected as we're not trying to demonstrate sensible scientific research but just how the data can be loaded an put through a ML pipeline using the Croissant format."
      ],
      "metadata": {
        "id": "RUXM4Msi-1eL"
      }
    },
    {
      "cell_type": "markdown",
      "source": [
        "## PyTorch Pipeline"
      ],
      "metadata": {
        "id": "3e2CZ-zL-3kJ"
      }
    },
    {
      "cell_type": "markdown",
      "source": [
        "The provided code defines and trains a neural network model using PyTorch for a regression task on tabular data.\n",
        "\n",
        "First we set-up data loaders, which allow us to define batches and the number of samples that will be processed together in one forward and backward pass through the model. In this case, the batch size is set to 128. The RandomSampler is used to randomly sample elements from the training dataset. The num_samples parameter is set to the length of the training dataset, ensuring that all samples are included in each epoch.\n",
        "\n",
        "For the test set no sampler is specified (sampler=None), so the data will be loaded sequentially. The batch_size parameter is also set to 128."
      ],
      "metadata": {
        "id": "-m94tNfB-5nZ"
      }
    },
    {
      "cell_type": "code",
      "source": [
        "batch_size = 128\n",
        "train_sampler = torch.utils.data.RandomSampler(train, num_samples=len(train))\n",
        "train_loader = torch.utils.data.DataLoader(\n",
        "    train,\n",
        "    sampler=train_sampler,\n",
        "    batch_size=batch_size,\n",
        ")\n",
        "test_loader = torch.utils.data.DataLoader(\n",
        "    test,\n",
        "    sampler=None,\n",
        "    batch_size=batch_size,\n",
        ")\n",
        "\n",
        "for i, batch in enumerate(train_loader):\n",
        "  print(batch)\n",
        "  break"
      ],
      "metadata": {
        "colab": {
          "base_uri": "https://localhost:8080/",
          "height": 1000
        },
        "collapsed": true,
        "id": "-pqrqgtF-8q_",
        "outputId": "9e9f7b5b-b2fe-404e-de1e-44120be75e60"
      },
      "execution_count": 15,
      "outputs": [
        {
          "output_type": "display_data",
          "data": {
            "text/plain": [
              "<IPython.core.display.HTML object>"
            ],
            "text/html": [
              "\n",
              "  <style>\n",
              "    pre {\n",
              "        white-space: pre-wrap;\n",
              "    }\n",
              "  </style>\n",
              "  "
            ]
          },
          "metadata": {}
        },
        {
          "output_type": "stream",
          "name": "stdout",
          "text": [
            "{'Aspect': tensor([ 56.8265,  71.6843,  43.5080, 129.6968, 288.8001, 181.5263, 303.9946,\n",
            "         98.3613, 208.6224, 181.0007, 150.9907,  75.0458, 312.7329, 100.5272,\n",
            "        206.3161, 172.0414,  91.2901, 218.0978, 173.4957, 155.2592, 281.6264,\n",
            "        179.3753, 314.3820, 171.5156,  62.6923,  72.9169,  48.3991, 140.5222,\n",
            "         73.8510, 266.0381, 185.0780, 215.1126, 240.3828, 265.1650, 161.4612,\n",
            "        259.2535, 184.4847, 249.0567, 189.1788, 282.8077,  57.5651, 305.0899,\n",
            "         83.1536, 327.0685, 251.5766, 112.5429, 195.8188, 214.6407, 139.3008,\n",
            "        100.7757, 120.8396, 233.9786,  35.8435, 172.0312, 347.3935, 248.8274,\n",
            "        200.7721, 209.0197, 239.0925, 114.5027, 143.5030,  84.3361, 303.5808,\n",
            "         30.8427, 257.1923, 210.1332,  40.7103,  69.1728,  92.1664, 174.6909,\n",
            "        190.4394, 290.8732,  51.1352, 101.6864, 269.5293, 258.2101,  85.5893,\n",
            "        296.6860, 254.7225,  17.0971, 232.2991, 301.8407, 120.7821, 243.9854,\n",
            "        275.9373, 231.3331, 275.1917, 298.6495, 266.3821, 304.3954,  92.7293,\n",
            "        299.1605,  32.9629, 113.5598, 163.5852, 117.8875,  80.8959,  83.8782,\n",
            "        125.7323, 106.8597, 194.9470,  66.2298, 244.1213, 264.7093, 126.9738,\n",
            "         48.3314, 304.0867,  53.6143, 193.7325, 262.5534, 292.7440, 208.8967,\n",
            "        173.7538, 135.6447,  53.2039, 131.1897,  58.8138,   8.8405, 180.3897,\n",
            "        278.7689,  58.4626, 308.4104, 216.5735, 283.3988, 172.7668, 286.1732,\n",
            "        259.6954, 327.5727], dtype=torch.float64), 'BareSand_it1': tensor([28., 46.,  0.,  0.,  0.,  0.,  0.,  0.,  0.,  0.,  5.,  0.,  0., 19.,\n",
            "         0.,  0.,  0., 99.,  0.,  0.,  0.,  0.,  0., 15.,  0., 70., 51., 31.,\n",
            "         2.,  0.,  0., 19.,  0.,  1., 44.,  1.,  0.,  0.,  0.,  0.,  0.,  0.,\n",
            "         0.,  0.,  0., 59.,  0.,  0.,  0.,  0.,  0.,  0.,  1.,  0.,  0.,  0.,\n",
            "         0.,  0.,  0.,  9.,  0.,  0.,  0.,  7.,  0.,  0.,  0.,  0.,  0.,  0.,\n",
            "         0.,  0.,  0.,  0.,  0.,  0.,  0.,  0.,  0., 59.,  0.,  0., 31.,  1.,\n",
            "         0.,  0.,  0.,  0.,  0., 21.,  0., 60.,  0.,  0.,  0.,  0.,  0., 10.,\n",
            "         0.,  3.,  0.,  0., 85.,  0., 86.,  0.,  0., 16., 10., 16.,  0.,  0.,\n",
            "         0.,  0.,  0., 10.,  0.,  3.,  0.,  3.,  4.,  0.,  0.,  0.,  0., 18.,\n",
            "         0.,  0.], dtype=torch.float64), 'Slope': tensor([ 5.8824, 21.9737, 14.6413,  8.5869,  2.7866,  2.5080,  1.6640, 16.6501,\n",
            "         3.6491,  1.4975, 15.9378,  5.0648, 33.6682, 22.9758,  6.5656,  1.5102,\n",
            "         1.6836, 10.6459,  6.5092,  6.1619,  1.4587,  2.7315, 15.7303, 14.1466,\n",
            "         5.8999, 17.1698, 11.6775,  8.2079,  6.2101,  1.0347,  1.0138,  6.4322,\n",
            "         0.6428,  9.9307, 26.6549,  2.4879,  2.9426,  2.4915,  3.9851,  3.4325,\n",
            "         8.1120,  5.3017, 18.6022, 12.5751,  8.2640,  4.0880,  1.3719,  0.7287,\n",
            "         7.2779,  5.1301,  2.2113,  9.7793,  4.2375,  1.0328, 16.6518, 10.9878,\n",
            "         1.5066,  0.6756, 11.2695,  9.8917,  1.4477, 12.3528,  1.2991,  4.9146,\n",
            "         2.6060,  6.9704, 11.4170,  3.1881, 11.2633,  7.3451,  1.1085,  1.6210,\n",
            "         7.3589,  7.6828,  2.5627,  1.7552,  5.3504,  3.6575,  6.9280, 14.6995,\n",
            "        32.7990,  6.8537,  8.1171,  5.9492,  1.8200,  2.1528,  6.5391, 20.9835,\n",
            "         7.2561, 21.5153,  4.2383, 12.8155,  5.7408,  4.8512,  1.4263,  7.7228,\n",
            "         5.7165, 10.0183,  3.8895, 11.4967, 14.5776,  0.7308, 35.5146, 12.1570,\n",
            "        18.6003,  0.8785,  2.9710, 12.3095, 15.8160, 18.3949, 11.4567,  3.2944,\n",
            "         2.5362,  5.6476, 10.2354, 15.8071,  5.7615, 18.7087,  3.4760,  8.0089,\n",
            "         5.9919, 40.9648,  6.1006,  4.6829,  4.3273,  6.1016, 13.5227, 11.7845],\n",
            "       dtype=torch.float64), 'WindSpeed': tensor([0.8102, 1.7544, 1.1906, 1.0192, 1.0249, 1.2155, 0.6107, 0.5042, 0.8485,\n",
            "        1.2742, 0.5194, 0.6892, 0.6534, 1.5560, 1.1524, 1.0592, 1.2027, 1.2552,\n",
            "        1.3289, 1.1603, 1.2528, 1.1903, 0.6102, 1.5756, 1.1795, 0.9054, 0.4997,\n",
            "        1.5044, 1.6896, 1.1419, 1.1920, 1.8331, 1.1892, 1.7519, 1.3228, 1.0652,\n",
            "        1.3300, 0.9059, 1.4108, 1.1482, 0.8743, 1.2149, 0.8993, 1.2980, 0.7814,\n",
            "        1.1246, 1.1605, 1.0909, 0.7689, 1.4399, 1.1073, 0.7567, 1.0048, 1.2973,\n",
            "        1.1873, 0.5685, 0.8558, 1.5607, 0.9084, 1.7369, 1.1673, 0.5958, 0.9017,\n",
            "        0.4025, 1.2594, 1.2444, 1.4996, 1.2339, 0.8935, 1.1744, 1.1947, 1.2166,\n",
            "        1.0362, 1.0918, 1.0716, 1.0915, 0.5500, 1.2307, 1.5527, 0.9317, 0.2458,\n",
            "        0.9860, 0.8432, 1.1429, 1.1106, 0.9027, 1.3401, 0.7620, 1.1946, 0.4067,\n",
            "        1.1455, 0.6587, 1.2363, 1.2079, 1.1628, 1.3119, 1.2585, 0.6978, 0.4995,\n",
            "        1.4981, 1.4990, 1.0976, 0.9759, 1.4965, 0.9633, 1.0931, 1.0951, 2.1271,\n",
            "        2.0670, 0.8995, 0.5317, 0.9639, 0.8573, 1.2791, 0.7477, 1.1121, 0.9463,\n",
            "        1.0954, 0.9870, 1.2324, 0.9060, 1.3550, 1.1863, 0.9664, 1.2085, 0.9556,\n",
            "        1.1699, 1.8524], dtype=torch.float64), 'X': tensor([235771.2500, 235513.7500, 235526.2500, 235981.2500, 235581.2500,\n",
            "        236016.2500, 235996.2500, 235426.2500, 235621.2500, 236038.7500,\n",
            "        235841.2500, 235836.2500, 236031.2500, 235673.7500, 235656.2500,\n",
            "        235823.7500, 235713.7500, 235791.2500, 235846.2500, 235656.2500,\n",
            "        235833.7500, 235901.2500, 235826.2500, 235818.7500, 235886.2500,\n",
            "        235821.2500, 235681.2500, 235841.2500, 235883.7500, 235861.2500,\n",
            "        235956.2500, 235571.2500, 235811.2500, 235396.2500, 235651.2500,\n",
            "        235613.7500, 235641.2500, 235548.7500, 235623.7500, 235883.7500,\n",
            "        235986.2500, 235903.7500, 235963.7500, 235781.2500, 235581.2500,\n",
            "        235861.2500, 235833.7500, 235978.7500, 235943.7500, 236098.7500,\n",
            "        235891.2500, 235718.7500, 235863.7500, 235586.2500, 235683.7500,\n",
            "        235493.7500, 235528.7500, 235881.2500, 235518.7500, 235488.7500,\n",
            "        235843.7500, 235538.7500, 235483.7500, 235743.7500, 236026.2500,\n",
            "        235743.7500, 235503.7500, 235821.2500, 235943.7500, 235688.7500,\n",
            "        235731.2500, 236113.7500, 235838.7500, 236016.2500, 235611.2500,\n",
            "        235901.2500, 235511.2500, 235821.2500, 236031.2500, 235823.7500,\n",
            "        236058.7500, 236086.2500, 235928.7500, 236011.2500, 235856.2500,\n",
            "        235531.2500, 235683.7500, 235438.7500, 235668.7500, 235821.2500,\n",
            "        235943.7500, 235616.2500, 235638.7500, 236073.7500, 235938.7500,\n",
            "        236056.2500, 235703.7500, 235843.7500, 235993.7500, 235691.2500,\n",
            "        235946.2500, 235726.2500, 235918.7500, 236076.2500, 235736.2500,\n",
            "        235771.2500, 235606.2500, 235373.7500, 235438.7500, 235891.2500,\n",
            "        235918.7500, 235591.2500, 236016.2500, 235686.2500, 235483.7500,\n",
            "        235601.2500, 235566.2500, 235803.7500, 235478.7500, 235776.2500,\n",
            "        235463.7500, 235718.7500, 235933.7500, 236046.2500, 235861.2500,\n",
            "        235701.2500, 235378.7500, 235731.2500], dtype=torch.float64), 'Y': tensor([367886.2500, 367961.2500, 368111.2500, 368283.7500, 368151.2500,\n",
            "        368388.7500, 368328.7500, 368293.7500, 368596.2500, 367963.7500,\n",
            "        367708.7500, 367716.2500, 368158.7500, 367953.7500, 368506.2500,\n",
            "        368578.7500, 368338.7500, 368516.2500, 368153.7500, 368493.7500,\n",
            "        368708.7500, 368596.2500, 367806.2500, 367641.2500, 367676.2500,\n",
            "        367966.2500, 367793.7500, 367621.2500, 367666.2500, 368678.7500,\n",
            "        368553.7500, 367861.2500, 368671.2500, 368276.2500, 368571.2500,\n",
            "        368313.7500, 368728.7500, 368276.2500, 368721.2500, 367868.7500,\n",
            "        368463.7500, 368573.7500, 367863.7500, 368711.2500, 368038.7500,\n",
            "        368401.2500, 368586.2500, 368568.7500, 368131.2500, 368336.2500,\n",
            "        368221.2500, 368663.7500, 367763.7500, 368286.2500, 368711.2500,\n",
            "        368486.2500, 368288.7500, 368226.2500, 368048.7500, 368168.7500,\n",
            "        368311.2500, 368251.2500, 368433.7500, 368558.7500, 367948.7500,\n",
            "        368261.2500, 368163.7500, 368278.7500, 367708.7500, 368726.2500,\n",
            "        368191.2500, 368373.7500, 368588.7500, 367986.2500, 368241.2500,\n",
            "        367893.7500, 368223.7500, 368096.2500, 367933.7500, 367721.2500,\n",
            "        367881.2500, 368038.7500, 368086.2500, 367841.2500, 368601.2500,\n",
            "        368291.2500, 368481.2500, 368031.2500, 368743.7500, 367666.2500,\n",
            "        368478.7500, 367941.2500, 368111.2500, 368356.2500, 368021.2500,\n",
            "        368043.7500, 368286.2500, 367711.2500, 368443.7500, 367816.2500,\n",
            "        367863.7500, 368123.7500, 368166.2500, 367986.2500, 367738.7500,\n",
            "        368096.2500, 368268.7500, 368168.7500, 368051.2500, 368133.7500,\n",
            "        368183.7500, 368383.7500, 368011.2500, 368323.7500, 368413.7500,\n",
            "        367998.7500, 368266.2500, 367661.2500, 368298.7500, 368336.2500,\n",
            "        368293.7500, 368488.7500, 367971.2500, 368496.2500, 367826.2500,\n",
            "        368461.2500, 368268.7500, 368483.7500], dtype=torch.float64), 'id': tensor([185306, 129244, 131904, 230843, 143856, 238417, 234089, 110071, 152382,\n",
            "        243483, 200609, 199518, 241773, 164063, 160034, 196453, 172613, 189406,\n",
            "        201519, 160039, 198577, 213310, 197306, 195740, 210414, 196154, 165759,\n",
            "        200644, 209874, 204573, 225295, 141796, 193696, 103550, 158920, 150863,\n",
            "        156681, 136734, 152876, 209793, 231859, 213863, 227203, 187152, 143901,\n",
            "        204684, 198626, 230185, 222744, 256390, 211284, 173571, 205483, 144890,\n",
            "        165936, 124682, 132377, 209106, 130297, 123721, 200912, 134568, 122527,\n",
            "        179053, 240769, 179172, 126987, 196029, 222913, 167018, 176480, 259639,\n",
            "        199713, 238578, 150348, 213591, 128595, 196102, 241863, 196796, 247868,\n",
            "        253789, 219498, 237548, 203516, 132920, 166028, 112896, 162659, 196274,\n",
            "        222605, 151556, 156384, 250942, 221700, 247259, 170458, 201152, 233499,\n",
            "        167926, 223395, 175419, 217290, 251634, 177749, 185222, 149249,  98697,\n",
            "        112888, 211319, 217283, 145939, 238568, 166635, 122535, 148269, 140546,\n",
            "        192468, 121493, 186214, 118231, 173641, 220632, 244902, 204914, 169844,\n",
            "         99745, 176363])}\n"
          ]
        }
      ]
    },
    {
      "cell_type": "markdown",
      "source": [
        "We'll use the TabularRegressor class to define a neural network with two hidden layers. The first hidden layer has 64 neurons, and the second hidden layer has 32 neurons. Both layers use the ReLU activation function. The final layer is a linear layer that outputs a single value for regression.\n",
        "\n",
        "The forward method defines the forward pass of the model, where the input features are passed through the hidden layers and activation functions, and finally through the regression layer to produce the output."
      ],
      "metadata": {
        "id": "XcXWphMz-_mb"
      }
    },
    {
      "cell_type": "code",
      "source": [
        "# Defining the model\n",
        "\n",
        "class TabularRegressor(torch.nn.Module): # Define a simple feedforward neural network\n",
        "    def __init__(self, input_dim): # Define the model's architecture\n",
        "        super(TabularRegressor, self).__init__()  # Call the parent class's constructor\n",
        "        self.hidden1 = torch.nn.Linear(input_dim, 64) # Define the first hidden layer\n",
        "        self.hidden2 = torch.nn.Linear(64, 32) # Define the second hidden layer\n",
        "        self.relu = torch.nn.ReLU() # Define the activation function\n",
        "        self.regressor = torch.nn.Linear(32, 1) # Define the output layer\n",
        "\n",
        "    def forward(self, features): # Define the forward pass\n",
        "        x = self.hidden1(features) # Pass the input through the first hidden layer\n",
        "        x = self.relu(x) # Apply the activation function\n",
        "        x = self.hidden2(x) # Pass the input through the second hidden layer\n",
        "        x = self.relu(x) # Apply the activation function\n",
        "        x = self.regressor(x) # Pass the input through the output layer\n",
        "        return x # Return the output\n",
        "\n",
        "# Extract feature names and target name\n",
        "feature_names = ['Aspect', 'Slope', 'WindSpeed']\n",
        "target_name = 'BareSand_it1'"
      ],
      "metadata": {
        "colab": {
          "base_uri": "https://localhost:8080/",
          "height": 17
        },
        "id": "waGUczYH_BI0",
        "outputId": "90555793-434c-4f96-df9b-df9243dba20b"
      },
      "execution_count": 16,
      "outputs": [
        {
          "output_type": "display_data",
          "data": {
            "text/plain": [
              "<IPython.core.display.HTML object>"
            ],
            "text/html": [
              "\n",
              "  <style>\n",
              "    pre {\n",
              "        white-space: pre-wrap;\n",
              "    }\n",
              "  </style>\n",
              "  "
            ]
          },
          "metadata": {}
        }
      ]
    },
    {
      "cell_type": "markdown",
      "source": [
        "The model is initialized and trained on 5 epochs of the training data. Predictions are then made on the test set and the MSE and R-squared metrics are computed for both sets of data.   "
      ],
      "metadata": {
        "id": "YAbQyieL_Dkr"
      }
    },
    {
      "cell_type": "code",
      "source": [
        "# Model initialization\n",
        "input_dim = len(feature_names) # Number of input features\n",
        "model = TabularRegressor(input_dim) # Initialize the model\n",
        "optimizer = torch.optim.Adam(model.parameters()) # Initialize the optimizer\n",
        "loss_function = torch.nn.MSELoss() # Initialize the loss function\n",
        "\n",
        "num_epochs = 5  # number of times the training loop iterates over the whole training data\n",
        "\n",
        "print('Training...')\n",
        "model.train() # Set the model to training mode\n",
        "all_train_targets = []\n",
        "all_train_predictions = []\n",
        "for epoch in range(num_epochs):\n",
        "    epoch_loss = 0\n",
        "    for example in tqdm(train_loader): #  training data is loaded in batches using train_loader\n",
        "        features = torch.stack([example[feature] for feature in feature_names], dim=1).float()\n",
        "        target = example[target_name].unsqueeze(dim=1).float()\n",
        "        prediction = model(features) # input features are passed through the model to obtain predictions.\n",
        "        loss = loss_function(prediction, target) # loss calculated using the MSE loss function\n",
        "        optimizer.zero_grad()\n",
        "        loss.backward() # gradients are computed using backpropagation\n",
        "        optimizer.step() # model parameters are updated using the optimizer\n",
        "        epoch_loss += loss.item()\n",
        "        all_train_targets.extend(target.squeeze().tolist())\n",
        "        all_train_predictions.extend(prediction.squeeze().tolist())\n",
        "\n",
        "    epoch_loss /= len(train_loader) # loss for each epoch is calculated\n",
        "    print(f'Epoch {epoch+1}/{num_epochs}, Loss: {epoch_loss:.4f}')\n",
        "\n",
        "train_r2 = r2_score(all_train_targets, all_train_predictions)\n",
        "print(f'Training R-squared: {train_r2:.4f}')\n",
        "\n",
        "print('Testing...') # Testing the model on the test data\n",
        "model.eval() # Set the model to evaluation mode\n",
        "total_loss = 0\n",
        "num_examples = 0\n",
        "all_targets = []\n",
        "all_predictions = []\n",
        "for example in tqdm(test_loader): # test data is loaded in batches using test_loader\n",
        "    features = torch.stack([example[feature] for feature in feature_names], dim=1).float()\n",
        "    target = example[target_name].unsqueeze(dim=1).float()\n",
        "    prediction = model(features) # input features are passed through the model to obtain predictions.\n",
        "    loss = loss_function(prediction, target) # loss calculated using the MSE loss function\n",
        "    total_loss += loss.item() * features.shape[0]\n",
        "    num_examples += features.shape[0]\n",
        "    all_targets.extend(target.squeeze().tolist())\n",
        "    all_predictions.extend(prediction.squeeze().tolist())\n",
        "\n",
        "mean_squared_error = total_loss / num_examples\n",
        "r2 = r2_score(all_targets, all_predictions)\n",
        "print(f'\\nMean Squared Error: {mean_squared_error:.4f}')\n",
        "print(f'R-squared: {r2:.4f}')"
      ],
      "metadata": {
        "colab": {
          "base_uri": "https://localhost:8080/",
          "height": 312
        },
        "id": "Aoso6Faz_E4e",
        "outputId": "4925f974-e79d-4c76-b287-152eed9429cc"
      },
      "execution_count": 17,
      "outputs": [
        {
          "output_type": "display_data",
          "data": {
            "text/plain": [
              "<IPython.core.display.HTML object>"
            ],
            "text/html": [
              "\n",
              "  <style>\n",
              "    pre {\n",
              "        white-space: pre-wrap;\n",
              "    }\n",
              "  </style>\n",
              "  "
            ]
          },
          "metadata": {}
        },
        {
          "output_type": "stream",
          "name": "stdout",
          "text": [
            "Training...\n"
          ]
        },
        {
          "output_type": "stream",
          "name": "stderr",
          "text": [
            "100%|██████████| 582/582 [00:12<00:00, 46.08it/s]\n"
          ]
        },
        {
          "output_type": "stream",
          "name": "stdout",
          "text": [
            "Epoch 1/5, Loss: 431.8625\n"
          ]
        },
        {
          "output_type": "stream",
          "name": "stderr",
          "text": [
            "100%|██████████| 582/582 [00:12<00:00, 48.25it/s]\n"
          ]
        },
        {
          "output_type": "stream",
          "name": "stdout",
          "text": [
            "Epoch 2/5, Loss: 406.5398\n"
          ]
        },
        {
          "output_type": "stream",
          "name": "stderr",
          "text": [
            "100%|██████████| 582/582 [00:12<00:00, 44.92it/s]\n"
          ]
        },
        {
          "output_type": "stream",
          "name": "stdout",
          "text": [
            "Epoch 3/5, Loss: 403.0240\n"
          ]
        },
        {
          "output_type": "stream",
          "name": "stderr",
          "text": [
            "100%|██████████| 582/582 [00:12<00:00, 46.50it/s]\n"
          ]
        },
        {
          "output_type": "stream",
          "name": "stdout",
          "text": [
            "Epoch 4/5, Loss: 401.0400\n"
          ]
        },
        {
          "output_type": "stream",
          "name": "stderr",
          "text": [
            "100%|██████████| 582/582 [00:12<00:00, 47.90it/s]\n"
          ]
        },
        {
          "output_type": "stream",
          "name": "stdout",
          "text": [
            "Epoch 5/5, Loss: 398.8569\n",
            "Training R-squared: 0.1380\n",
            "Testing...\n"
          ]
        },
        {
          "output_type": "stream",
          "name": "stderr",
          "text": [
            "100%|██████████| 194/194 [00:04<00:00, 42.52it/s]"
          ]
        },
        {
          "output_type": "stream",
          "name": "stdout",
          "text": [
            "\n",
            "Mean Squared Error: 389.1266\n",
            "R-squared: 0.1482\n"
          ]
        },
        {
          "output_type": "stream",
          "name": "stderr",
          "text": [
            "\n"
          ]
        }
      ]
    },
    {
      "cell_type": "markdown",
      "source": [
        "The MSE and R-squared performance metrics are poor, which is as expected as we're not trying to demonstrate sensible scientific research but just how the data can be loaded an put through a ML pipeline using the Croissant format."
      ],
      "metadata": {
        "id": "OT_c49Dx_Gci"
      }
    }
  ]
}