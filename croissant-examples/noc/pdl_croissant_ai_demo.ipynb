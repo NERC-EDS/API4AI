{
 "cells": [
  {
   "cell_type": "code",
   "execution_count": 1,
   "id": "40fbd004-f902-4c59-a0b8-4a6bad241ece",
   "metadata": {},
   "outputs": [],
   "source": [
    "import mlcroissant as mlc\n",
    "import numpy as np\n",
    "import matplotlib.pyplot as plt\n",
    "from PIL import Image\n",
    "\n",
    "import matplotlib.pyplot as plt\n",
    "import cmcrameri.cm as cmc\n",
    "from sklearn.metrics.pairwise import pairwise_distances_argmin\n",
    "from sklearn.decomposition import PCA\n",
    "from sklearn.cluster import KMeans\n",
    "\n",
    "# Stop PIL getting upset at the v. big images\n",
    "Image.MAX_IMAGE_PIXELS = None"
   ]
  },
  {
   "cell_type": "code",
   "execution_count": 2,
   "id": "a10d41de-bd02-4b50-9eb2-bb46c10c6d05",
   "metadata": {
    "scrolled": true
   },
   "outputs": [],
   "source": [
    "#open dataset with croissant\n",
    "\n",
    "ds = mlc.Dataset(\"./gebco_doi.json\")\n",
    "\n",
    "MAX_RECORDS = 1\n",
    "\n",
    "for i, record in enumerate(ds.records(record_set=\"default\")):\n",
    "    record[\"images/content\"]\n",
    "    if i + 1 >= MAX_RECORDS:\n",
    "        break"
   ]
  },
  {
   "cell_type": "code",
   "execution_count": 3,
   "id": "8cef9cff-723a-412d-a635-c45a475f41c6",
   "metadata": {},
   "outputs": [],
   "source": [
    "records = ds.records(record_set=\"default\")"
   ]
  },
  {
   "cell_type": "code",
   "execution_count": 4,
   "id": "2cc5b9c1-f9ce-4a37-9ee6-afc612510828",
   "metadata": {},
   "outputs": [],
   "source": [
    "def split_2d(array, splits):\n",
    "    #split large 2D (z,y,x) array into subsets (z*splits[0]*splits[1],y/splits[0],x/splits[1])\n",
    "    x, y = splits\n",
    "    return np.stack(np.split(np.concatenate(np.split(array, y, axis=1)), x*y))"
   ]
  },
  {
   "cell_type": "code",
   "execution_count": 5,
   "id": "f26f0014-be1b-42be-8622-77223576a28d",
   "metadata": {},
   "outputs": [],
   "source": [
    "#take subset of data and produce array of subsets\n",
    "arrs = []\n",
    "for arr in iter(records):\n",
    "    img = np.asarray(arr['images/content'])\n",
    "    subset = split_2d(img,(100,100))\n",
    "    arrs.append(subset)"
   ]
  },
  {
   "cell_type": "code",
   "execution_count": 6,
   "id": "8f2db81e-e114-4b3a-bac1-48ae74410069",
   "metadata": {},
   "outputs": [],
   "source": [
    "big_arr = np.concatenate(arrs,axis=0)"
   ]
  },
  {
   "cell_type": "code",
   "execution_count": 8,
   "id": "4f12e332-97ab-4012-ac0b-7f6b457418b2",
   "metadata": {},
   "outputs": [],
   "source": [
    "flattened = np.reshape(big_arr,(big_arr.shape[0],big_arr.shape[1]*big_arr.shape[2]))"
   ]
  },
  {
   "cell_type": "code",
   "execution_count": null,
   "id": "067fff17-bbb4-4455-a274-5b362e84533d",
   "metadata": {},
   "outputs": [],
   "source": [
    "#find first three principal components of flattened data\n",
    "pca = PCA(n_components=3)\n",
    "pca_arr = pca.fit(flattened)\n",
    "pca_d = pca_arr.transform(flattened)"
   ]
  },
  {
   "cell_type": "code",
   "execution_count": null,
   "id": "a4dbf73e-261b-4e8f-9101-ab61dd709adc",
   "metadata": {},
   "outputs": [],
   "source": [
    "pca_arr.explained_variance_ratio_"
   ]
  },
  {
   "cell_type": "code",
   "execution_count": null,
   "id": "d95135e1-05dd-4615-b026-bdb40e3ad816",
   "metadata": {},
   "outputs": [],
   "source": [
    "#plot first two components\n",
    "plt.scatter(pca_d[:,0],pca_d[:,1],s=0.1)"
   ]
  },
  {
   "cell_type": "code",
   "execution_count": null,
   "id": "589c63b4-ef49-4d00-ba5b-f9ecdefdfc55",
   "metadata": {},
   "outputs": [],
   "source": [
    "n_clusters=8\n",
    "\n",
    "kmeans = KMeans(init=\"k-means++\", n_clusters=n_clusters, n_init=4)\n",
    "k_means = kmeans.fit(pca_d)\n",
    "\n",
    "fig = plt.figure(figsize=(8, 3))\n",
    "fig.subplots_adjust(left=0.02, right=0.98, bottom=0.05, top=0.9)\n",
    "k_means_cluster_centers = k_means.cluster_centers_\n",
    "\n",
    "\n",
    "k_means_labels = pairwise_distances_argmin(pca_d, k_means_cluster_centers)\n",
    "\n",
    "# KMeans\n",
    "ax = fig.add_subplot(1, 1, 1)\n",
    "for k in range(n_clusters):\n",
    "    col = cmc.glasgowS(k/(n_clusters-1))\n",
    "    my_members = k_means_labels == k\n",
    "    cluster_center = k_means_cluster_centers[k]\n",
    "   #ax.plot(pca_d[my_members, 0], pca_d[my_members, 1], \"w\", markerfacecolor=col, marker=\"o\")\n",
    "    ax.scatter(pca_d[my_members, 0], pca_d[my_members, 1], color=col, s=0.1)\n",
    "    ax.plot(\n",
    "        cluster_center[0],\n",
    "        cluster_center[1],\n",
    "        \"o\",\n",
    "        markerfacecolor=col,\n",
    "        markeredgecolor=\"k\",\n",
    "        markersize=6,\n",
    "    )\n",
    "ax.set_title(\"KMeans\")\n",
    "ax.set_xticks(())\n",
    "ax.set_yticks(())\n"
   ]
  }
 ],
 "metadata": {
  "kernelspec": {
   "display_name": "Python [conda env:base] *",
   "language": "python",
   "name": "conda-base-py"
  },
  "language_info": {
   "codemirror_mode": {
    "name": "ipython",
    "version": 3
   },
   "file_extension": ".py",
   "mimetype": "text/x-python",
   "name": "python",
   "nbconvert_exporter": "python",
   "pygments_lexer": "ipython3",
   "version": "3.11.11"
  }
 },
 "nbformat": 4,
 "nbformat_minor": 5
}
