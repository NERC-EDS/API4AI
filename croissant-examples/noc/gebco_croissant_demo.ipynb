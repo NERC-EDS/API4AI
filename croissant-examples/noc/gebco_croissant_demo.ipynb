{
 "cells": [
  {
   "cell_type": "markdown",
   "id": "f1eb4b99",
   "metadata": {},
   "source": [
    "Simple notebook to load a Croissant file linked to a zip file full of geotiff images. Loads the dataset and displays the first of the images.\n",
    "\n",
    "Note: the zip is ~4GB and the uncompressed geotiffs are each ~1GB"
   ]
  },
  {
   "cell_type": "code",
   "execution_count": null,
   "id": "40fbd004-f902-4c59-a0b8-4a6bad241ece",
   "metadata": {},
   "outputs": [],
   "source": [
    "import mlcroissant as mlc\n",
    "from IPython.display import display\n",
    "\n",
    "from PIL import Image\n",
    "# Stop PIL getting upset at the v. big images\n",
    "Image.MAX_IMAGE_PIXELS = None"
   ]
  },
  {
   "cell_type": "code",
   "execution_count": null,
   "id": "4acc97da-5b96-4c53-bfe9-7741b9078445",
   "metadata": {},
   "outputs": [],
   "source": [
    "ds = mlc.Dataset(\"./gebco_2024.json\")\n",
    "\n",
    "MAX_RECORDS = 1\n",
    "\n",
    "for i, record in enumerate(ds.records(record_set=\"default\")):\n",
    "    display(record[\"images/content\"])\n",
    "    if i + 1 >= MAX_RECORDS:\n",
    "        break"
   ]
  }
 ],
 "metadata": {
  "kernelspec": {
   "display_name": "Python [conda env:base] *",
   "language": "python",
   "name": "conda-base-py"
  },
  "language_info": {
   "codemirror_mode": {
    "name": "ipython",
    "version": 3
   },
   "file_extension": ".py",
   "mimetype": "text/x-python",
   "name": "python",
   "nbconvert_exporter": "python",
   "pygments_lexer": "ipython3",
   "version": "3.11.11"
  }
 },
 "nbformat": 4,
 "nbformat_minor": 5
}
