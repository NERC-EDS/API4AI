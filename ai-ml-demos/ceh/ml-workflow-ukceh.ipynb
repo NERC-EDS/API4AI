{
 "cells": [
  {
   "cell_type": "markdown",
   "id": "2af5fb14-f628-42ee-8e84-c60c04caf52e",
   "metadata": {},
   "source": [
    "# Using Croissant in Machine Learning Pipelines 🥐"
   ]
  },
  {
   "cell_type": "markdown",
   "id": "519842be-a53e-41b8-bb5a-cd27a20c37f7",
   "metadata": {},
   "source": [
    "Croissant provides a single-file JSON-LD format for Machine Learning (ML) datasets that contains information about data sources, data structure and relevant additional metadata. The standardized format aims to improve the discoverability, accessibility, and interoperability of ML datasets. In this notebook we'll demonstrate using an example croissant file (linked to a dataset from the UKCEH Environment Information Data Centre (EIDC)) in an ML-pipeline."
   ]
  },
  {
   "cell_type": "code",
   "execution_count": 1,
   "id": "7028dc0c-db89-41ad-bb94-72ada390b158",
   "metadata": {},
   "outputs": [],
   "source": [
    "# Importing necessary libraries\n",
    "from mlcroissant import Dataset\n",
    "import tensorflow_datasets as tfds\n",
    "import torch\n",
    "from tqdm import tqdm\n",
    "import pandas as pd\n",
    "from sklearn.model_selection import train_test_split\n",
    "from sklearn.neural_network import MLPRegressor\n",
    "from sklearn.metrics import mean_squared_error, r2_score"
   ]
  },
  {
   "cell_type": "markdown",
   "id": "10b2e56d-7c16-454d-9957-928c16da987d",
   "metadata": {},
   "source": [
    "## Loading the data"
   ]
  },
  {
   "cell_type": "markdown",
   "id": "4956ffd1-4b4f-4e11-8e7b-9c5a1341a0fa",
   "metadata": {},
   "source": [
    "Currently the underlying data described in the croissant file can be loaded directly using either the [mlcroissant](https://github.com/mlcommons/croissant/tree/main/python/mlcroissant) python library or the [tensorflow croissant builder](https://www.tensorflow.org/datasets/format_specific_dataset_builders#croissantbuilder). Here we'll demonstrate both."
   ]
  },
  {
   "cell_type": "code",
   "execution_count": 2,
   "id": "7ff1bd56-fa43-4a1f-825a-1f6933f9c0c0",
   "metadata": {},
   "outputs": [
    {
     "name": "stdout",
     "output_type": "stream",
     "text": [
      "This data contains values of bare sand area, modelled wind speed, aspect and slope at a 2.5 m spatial resolution for four UK coastal dune fields, Abberfraw (Wales), Ainsdale (England), Morfa Dyffryn (Wales), Penhale (England). Data is stored as a .csv file. Data is available for 620,756.25 m2 of dune at Abberfraw, 550,962.5 m2 of dune at Ainsdale, 1,797,756.25 m2 of dune at Morfa Dyffryn and 2,275,056.25 m2 of dune at Penhale. All values were calculated from aerial imagery and digital terrain models collected between 2014 and 2016.\n",
      "id                int64\n",
      "X               float64\n",
      "Y               float64\n",
      "Aspect          float64\n",
      "Slope           float64\n",
      "WindSpeed       float64\n",
      "BareSand_it1    float64\n",
      "dtype: object\n"
     ]
    },
    {
     "data": {
      "text/html": [
       "<div>\n",
       "<style scoped>\n",
       "    .dataframe tbody tr th:only-of-type {\n",
       "        vertical-align: middle;\n",
       "    }\n",
       "\n",
       "    .dataframe tbody tr th {\n",
       "        vertical-align: top;\n",
       "    }\n",
       "\n",
       "    .dataframe thead th {\n",
       "        text-align: right;\n",
       "    }\n",
       "</style>\n",
       "<table border=\"1\" class=\"dataframe\">\n",
       "  <thead>\n",
       "    <tr style=\"text-align: right;\">\n",
       "      <th></th>\n",
       "      <th>id</th>\n",
       "      <th>X</th>\n",
       "      <th>Y</th>\n",
       "      <th>Aspect</th>\n",
       "      <th>Slope</th>\n",
       "      <th>WindSpeed</th>\n",
       "      <th>BareSand_it1</th>\n",
       "    </tr>\n",
       "  </thead>\n",
       "  <tbody>\n",
       "    <tr>\n",
       "      <th>0</th>\n",
       "      <td>91619</td>\n",
       "      <td>235341.25</td>\n",
       "      <td>368183.75</td>\n",
       "      <td>147.395590</td>\n",
       "      <td>5.947186</td>\n",
       "      <td>1.552845</td>\n",
       "      <td>34.0</td>\n",
       "    </tr>\n",
       "    <tr>\n",
       "      <th>1</th>\n",
       "      <td>91620</td>\n",
       "      <td>235341.25</td>\n",
       "      <td>368181.25</td>\n",
       "      <td>183.392563</td>\n",
       "      <td>7.696039</td>\n",
       "      <td>1.610589</td>\n",
       "      <td>40.0</td>\n",
       "    </tr>\n",
       "    <tr>\n",
       "      <th>2</th>\n",
       "      <td>91621</td>\n",
       "      <td>235341.25</td>\n",
       "      <td>368178.75</td>\n",
       "      <td>174.296432</td>\n",
       "      <td>5.170790</td>\n",
       "      <td>1.567760</td>\n",
       "      <td>16.0</td>\n",
       "    </tr>\n",
       "    <tr>\n",
       "      <th>3</th>\n",
       "      <td>91622</td>\n",
       "      <td>235341.25</td>\n",
       "      <td>368176.25</td>\n",
       "      <td>264.810909</td>\n",
       "      <td>2.708107</td>\n",
       "      <td>1.461571</td>\n",
       "      <td>16.0</td>\n",
       "    </tr>\n",
       "    <tr>\n",
       "      <th>4</th>\n",
       "      <td>91623</td>\n",
       "      <td>235341.25</td>\n",
       "      <td>368173.75</td>\n",
       "      <td>172.195933</td>\n",
       "      <td>11.810599</td>\n",
       "      <td>1.431683</td>\n",
       "      <td>4.0</td>\n",
       "    </tr>\n",
       "  </tbody>\n",
       "</table>\n",
       "</div>"
      ],
      "text/plain": [
       "      id          X          Y      Aspect      Slope  WindSpeed  BareSand_it1\n",
       "0  91619  235341.25  368183.75  147.395590   5.947186   1.552845          34.0\n",
       "1  91620  235341.25  368181.25  183.392563   7.696039   1.610589          40.0\n",
       "2  91621  235341.25  368178.75  174.296432   5.170790   1.567760          16.0\n",
       "3  91622  235341.25  368176.25  264.810909   2.708107   1.461571          16.0\n",
       "4  91623  235341.25  368173.75  172.195933  11.810599   1.431683           4.0"
      ]
     },
     "execution_count": 2,
     "metadata": {},
     "output_type": "execute_result"
    }
   ],
   "source": [
    "# Load the dataset from the croissant file using mlcroissant\n",
    "croissant_file_path = \"croissantSpikeZip.json\" #\"../../croissantSpikeZip.json\"\n",
    "dataset = Dataset(jsonld=croissant_file_path)  # Use mlc.Dataset to parse Croissant metadata\n",
    "metadata = dataset.metadata.to_json() # Convert the metadata to a JSON object\n",
    "records = dataset.records(record_set=\"rs-abberfraw\") # Extract records from the dataset\n",
    "print(metadata['description']) # Display the description of the dataset\n",
    "df = pd.DataFrame(records) # Convert the records to a pandas dataframe\n",
    "print(df.dtypes) # Display the datatypes of the columns\n",
    "df[:5] # Display the first 5 records"
   ]
  },
  {
   "cell_type": "code",
   "execution_count": 3,
   "id": "4a19fbfd-f862-4bff-ae1a-685c1a34fbe5",
   "metadata": {
    "scrolled": true
   },
   "outputs": [
    {
     "name": "stdout",
     "output_type": "stream",
     "text": [
      "Dataset's description:\n",
      "This data contains values of bare sand area, modelled wind speed, aspect and slope at a 2.5 m spatial resolution for four UK coastal dune fields, Abberfraw (Wales), Ainsdale (England), Morfa Dyffryn (Wales), Penhale (England). Data is stored as a .csv file. Data is available for 620,756.25 m2 of dune at Abberfraw, 550,962.5 m2 of dune at Ainsdale, 1,797,756.25 m2 of dune at Morfa Dyffryn and 2,275,056.25 m2 of dune at Penhale. All values were calculated from aerial imagery and digital terrain models collected between 2014 and 2016.\n",
      "\n",
      "Dataset's citation:\n",
      "Smyth, T.A.G. (2022). Bare sand, wind speed, aspect and slope at four English and Welsh coastal sand dunes, 2014-2016. NERC EDS Environmental Information Data Centre. https://doi.org/10.5285/972599af-0cc3-4e0e-a4dc-2fab7a6dfc85\n",
      "\n",
      "Dataset's features:\n",
      "FeaturesDict({\n",
      "    'Aspect': float32,\n",
      "    'BareSand_it1': float32,\n",
      "    'Slope': float32,\n",
      "    'WindSpeed': float32,\n",
      "    'X': float32,\n",
      "    'Y': float32,\n",
      "    'id': int64,\n",
      "})\n",
      "Train dataset size: 74491\n",
      "Test dataset size: 24830\n",
      "{'Aspect': 287.2237854003906, 'BareSand_it1': 0.0, 'Slope': 0.9244160652160645, 'WindSpeed': 1.1475861072540283, 'X': 235566.25, 'Y': 368331.25, 'id': 140520}\n",
      "{'Aspect': 136.97999572753906, 'BareSand_it1': 52.0, 'Slope': 21.083030700683594, 'WindSpeed': 1.300819754600525, 'X': 235916.25, 'Y': 368126.25, 'id': 216762}\n",
      "{'Aspect': 321.24542236328125, 'BareSand_it1': 0.0, 'Slope': 0.5721451044082642, 'WindSpeed': 1.1989078521728516, 'X': 235848.75, 'Y': 368176.25, 'id': 202054}\n",
      "{'Aspect': 196.46060180664062, 'BareSand_it1': 0.0, 'Slope': 20.84337615966797, 'WindSpeed': 0.4321769177913666, 'X': 235551.25, 'Y': 367951.25, 'id': 137408}\n",
      "{'Aspect': 272.1617431640625, 'BareSand_it1': 23.0, 'Slope': 25.392925262451172, 'WindSpeed': 1.6483949422836304, 'X': 235766.25, 'Y': 367766.25, 'id': 184266}\n"
     ]
    }
   ],
   "source": [
    "# Load the dataset from the croissant file using tensorflow custom builder\n",
    "builder = tfds.core.dataset_builders.CroissantBuilder(\n",
    "    jsonld=\"croissantSpikeZip.json\",\n",
    "    record_set_ids=[\"rs-abberfraw\"],\n",
    "    file_format='array_record',\n",
    "    data_dir=\"tfds_data\",\n",
    ")\n",
    "print(f\"Dataset's description:\\n{builder.info.description}\\n\")\n",
    "print(f\"Dataset's citation:\\n{builder.info.citation}\\n\")\n",
    "print(f\"Dataset's features:\\n{builder.info.features}\")\n",
    "\n",
    "builder.download_and_prepare() # Download and prepare the dataset\n",
    "train,test = builder.as_data_source(split=['default[:75%]','default[75%:]'])\n",
    "\n",
    "print(f\"Train dataset size: {len(train)}\")\n",
    "print(f\"Test dataset size: {len(test)}\")\n",
    "\n",
    "for i in range(5):\n",
    "  print(train[i])"
   ]
  },
  {
   "cell_type": "markdown",
   "id": "d104bfc3-b573-4291-9b43-7da6ecc72efa",
   "metadata": {},
   "source": [
    "## Machine Learning Pipelines"
   ]
  },
  {
   "cell_type": "markdown",
   "id": "83cbcc14-2296-4527-9007-7fa52c7f9915",
   "metadata": {},
   "source": [
    "The focus here is simply to demonstrate that after loading the data from the croissant file it can then easily be put through various ML frameworks. To highlight this we show a scikit-learn pipeline that ingests a pandas dataframe and we show a PyTorch pipeline that ingests the data source provided by the tensorflow croissant builder. It is noted that the specific details of the model and inputs/outputs are not significant and aren't related to a sensible scientific question."
   ]
  },
  {
   "cell_type": "markdown",
   "id": "b52e3c19-ab7e-49b1-ae2f-3ef1f81db091",
   "metadata": {},
   "source": [
    "### sci-kit learn Pipeline"
   ]
  },
  {
   "cell_type": "markdown",
   "id": "7c767da7-294e-4cb3-b346-f95d7815eee1",
   "metadata": {},
   "source": [
    "The provided code defines and trains a neural network model to predict the proportion of sand in an image from the wind speed, degree of slope and aspect. The multi-layer perceptron regressor from scikit-learn is used."
   ]
  },
  {
   "cell_type": "code",
   "execution_count": 4,
   "id": "7c3d61fd-937c-42c6-9a21-831a2f2d207e",
   "metadata": {},
   "outputs": [
    {
     "name": "stdout",
     "output_type": "stream",
     "text": [
      "Training Set - Mean Squared Error: 341.48951488524585\n",
      "Training Set - R-squared Value: 0.2747990692314274\n",
      "Test Set - Mean Squared Error: 339.5967938543819\n",
      "Test Set - R-squared Value: 0.26746100024057673\n"
     ]
    }
   ],
   "source": [
    "# Define features and target variable\n",
    "X = df[[\"WindSpeed\", \"Aspect\", \"Slope\"]]\n",
    "y = df[\"BareSand_it1\"]\n",
    "\n",
    "# Split dataset into training and test sets\n",
    "X_train, X_test, y_train, y_test = train_test_split(X, y, test_size=0.2, random_state=42)\n",
    "\n",
    "# Train a simple regression model\n",
    "model = MLPRegressor(hidden_layer_sizes=(64, 32), activation='relu', solver='adam', max_iter=500, random_state=42)\n",
    "model.fit(X_train, y_train)\n",
    "\n",
    "# Make predictions\n",
    "y_train_pred = model.predict(X_train)  # Predictions on training set\n",
    "y_test_pred = model.predict(X_test)  # Predictions on test set\n",
    "\n",
    "# Evaluate the model\n",
    "mse_train = mean_squared_error(y_train, y_train_pred)\n",
    "r2_train = r2_score(y_train, y_train_pred)\n",
    "mse_test = mean_squared_error(y_test, y_test_pred)\n",
    "r2_test = r2_score(y_test, y_test_pred)\n",
    "\n",
    "print(f\"Training Set - Mean Squared Error: {mse_train}\")\n",
    "print(f\"Training Set - R-squared Value: {r2_train}\")\n",
    "print(f\"Test Set - Mean Squared Error: {mse_test}\")\n",
    "print(f\"Test Set - R-squared Value: {r2_test}\")"
   ]
  },
  {
   "cell_type": "markdown",
   "id": "28d24a92-9ff2-4bc5-abe4-c0428dd11022",
   "metadata": {},
   "source": [
    "The MSE and R-squared performance metrics are poor, which is as expected as we're not trying to demonstrate sensible scientific research but just how the data can be loaded an put through a ML pipeline using the Croissant format."
   ]
  },
  {
   "cell_type": "markdown",
   "id": "40d15ab5-91ec-4b26-a1ed-e262e60f0c12",
   "metadata": {},
   "source": [
    "## PyTorch Pipeline"
   ]
  },
  {
   "cell_type": "markdown",
   "id": "e6b272e5-7dfd-4467-834a-40a3ca734661",
   "metadata": {},
   "source": [
    "The provided code defines and trains a neural network model using PyTorch for a regression task on tabular data.\n",
    "\n",
    "First we set-up data loaders, which allow us to define batches and the number of samples that will be processed together in one forward and backward pass through the model. In this case, the batch size is set to 128. The RandomSampler is used to randomly sample elements from the training dataset. The num_samples parameter is set to the length of the training dataset, ensuring that all samples are included in each epoch.\n",
    "\n",
    "For the test set no sampler is specified (sampler=None), so the data will be loaded sequentially. The batch_size parameter is also set to 128."
   ]
  },
  {
   "cell_type": "code",
   "execution_count": 5,
   "id": "648d3ce9-af9a-48d2-8e0c-2a9bd2026ab2",
   "metadata": {},
   "outputs": [
    {
     "name": "stdout",
     "output_type": "stream",
     "text": [
      "{'Aspect': tensor([ 89.7375, 321.9874, 191.2721, 250.2260,  68.0583, 180.6188,  49.3153,\n",
      "        197.6385, 162.5602, 222.3253, 120.1057, 222.4443, 154.7649, 264.3516,\n",
      "         66.1920,  87.1888, 186.4925,  90.3163, 143.3071, 244.2219, 108.1738,\n",
      "        242.7143, 263.9854, 266.8715, 172.2630, 240.6597, 222.9445, 308.7663,\n",
      "        168.7152, 219.5724, 276.9722, 201.0411, 175.9489, 295.8305, 333.8602,\n",
      "        126.3067, 309.1491, 116.9248, 249.1680, 167.4727, 324.1527, 202.0121,\n",
      "        288.5019,  81.2521, 111.9773, 319.3197,  85.3047, 135.8192, 253.3727,\n",
      "        148.9606,  93.8905, 267.8412, 299.6581, 308.3669, 319.0243, 213.7611,\n",
      "        303.1306, 348.9365, 231.9572, 148.1660, 104.9408,  37.0513, 138.1391,\n",
      "        289.2555, 216.0453, 245.0532, 178.5889, 100.5082, 293.7520, 225.7089,\n",
      "        144.1718, 246.7909, 282.0041, 295.5198, 198.7042, 259.9638, 100.6199,\n",
      "        176.2765, 301.4254, 222.6222, 194.0778, 263.0454, 106.8769, 172.9187,\n",
      "         20.5944, 298.0411, 130.0327, 105.6148, 286.2500, 182.5907,  91.6899,\n",
      "         90.4061, 174.6590,  61.6484, 209.8234, 224.2982,  29.2807, 212.8171,\n",
      "        320.4147, 330.1703,  73.4247, 287.4730, 162.6213, 262.1620, 242.3186,\n",
      "        243.9042, 229.3425,  84.5659, 213.6222, 251.8717,  67.7582, 113.2629,\n",
      "        188.9734, 348.9839, 111.5201, 161.1111,  11.2883, 213.4120, 225.6222,\n",
      "        120.8862, 256.2747, 296.7002, 251.0138, 230.5663, 146.2501, 168.7578,\n",
      "        275.4639,  60.5669], dtype=torch.float64), 'BareSand_it1': tensor([  0.,   0.,  11.,   0.,   0.,  47.,  17.,   0.,   1.,  63.,   0.,   0.,\n",
      "          1.,   0.,   2.,   0.,   0.,   0.,   0.,   3.,  29.,  16.,   0.,   0.,\n",
      "          0.,   3.,   0.,   0., 100.,   0.,   0.,   0.,   4.,   1.,   2.,  49.,\n",
      "          0.,  97.,   0.,   5.,   0.,   3.,   0.,   3.,   0.,   0.,   9.,   0.,\n",
      "         43.,   0.,   0.,   5.,   0.,   0.,   0.,   0.,   0.,   0.,   0.,   0.,\n",
      "          0.,   0.,   0.,   0.,   0.,   0.,   0.,   1.,   0.,   7.,   0.,   0.,\n",
      "          1.,   0.,   0.,   0.,   0.,   0.,   0.,   3.,   0.,   0.,   0.,  10.,\n",
      "         10.,   0.,   0.,   3.,  27.,   0.,  18.,   0.,   0.,  95.,   0.,  27.,\n",
      "          0.,   0.,   0.,   0.,   1.,   0.,  71.,   0.,   0.,   0.,   8.,   0.,\n",
      "         31.,   0.,   0.,   0.,   0.,   0.,   0.,   0.,   0.,   0.,   0.,   0.,\n",
      "          0.,   0.,  61.,   0.,   0.,   0.,   0.,   0.], dtype=torch.float64), 'Slope': tensor([ 5.4322,  2.8126, 10.2064,  3.0202,  4.9755, 29.2708, 13.4422,  1.0197,\n",
      "         9.8024, 10.7460,  4.7144,  1.3206,  7.7384,  7.5652, 13.7870,  1.7766,\n",
      "         4.9291,  2.1371,  1.8475,  8.0197, 14.2613,  9.9612, 14.8394,  1.6792,\n",
      "         5.7685, 10.0297,  1.9978, 22.9528, 11.1941,  1.4884,  4.4924,  2.0406,\n",
      "         4.3809,  2.0721, 25.0211,  3.4061,  6.3465, 22.6814,  0.6947,  3.8601,\n",
      "         8.7093, 16.5026, 14.6177,  2.8338,  6.5176,  2.9700,  9.8856,  8.3815,\n",
      "        17.5221,  7.9069,  1.8668, 24.6890,  5.1657,  6.5468,  0.9975,  3.2043,\n",
      "        16.1110,  1.1870,  1.4855,  3.9123,  5.3913,  5.6222,  4.7137, 28.1329,\n",
      "         1.5424, 18.3678,  4.0137,  9.1910, 12.9991,  9.7875,  6.2952,  3.6122,\n",
      "         3.0744, 12.4456,  5.6940,  1.5077, 14.2261,  0.9601, 12.3907,  5.8925,\n",
      "         0.6804, 18.7009, 17.7413, 19.8873,  7.6287,  1.5982,  2.9406, 19.1299,\n",
      "        31.4993,  1.3778,  4.3090, 16.8476,  2.7634, 13.1675,  7.0290, 14.9804,\n",
      "         2.1986,  2.6472, 11.1673,  9.9084,  9.7543, 23.3237, 14.1437,  4.4756,\n",
      "         2.7414,  0.5998,  9.8516,  5.4823,  7.5844,  3.5760,  1.3011,  1.9043,\n",
      "         2.3525, 11.4656,  2.2934, 10.8052,  3.5874,  8.9734,  0.4497, 15.4061,\n",
      "         2.6213, 14.9120,  4.9520,  3.5090,  0.7294,  2.0203, 18.4419,  9.6059],\n",
      "       dtype=torch.float64), 'WindSpeed': tensor([1.3160, 0.8993, 1.7031, 1.1832, 0.7740, 0.7025, 0.8068, 0.9305, 1.1075,\n",
      "        2.1789, 1.0593, 1.5246, 1.3791, 1.1836, 0.7039, 1.1801, 1.3045, 1.1657,\n",
      "        1.0405, 1.3273, 1.6872, 1.0272, 0.8692, 1.0623, 1.2041, 1.1444, 0.7486,\n",
      "        1.6001, 1.1252, 1.1262, 1.2853, 1.1751, 1.1134, 1.1670, 1.2914, 0.8419,\n",
      "        0.7399, 1.2290, 1.2327, 0.8355, 0.9807, 1.3304, 0.7997, 1.1632, 1.1053,\n",
      "        1.1906, 0.8884, 0.9274, 0.6444, 0.9020, 1.0201, 1.6578, 1.3515, 0.7903,\n",
      "        1.0457, 1.0287, 0.8806, 1.1015, 1.2532, 1.0701, 0.7702, 1.2727, 1.5017,\n",
      "        0.5793, 1.1569, 1.5724, 1.2495, 1.2168, 1.7986, 1.0947, 0.8222, 1.2105,\n",
      "        1.0679, 1.4550, 1.1263, 1.2006, 1.0602, 1.0226, 1.2339, 0.9048, 1.1923,\n",
      "        1.1831, 2.1254, 0.3813, 1.1973, 1.0710, 0.8719, 0.8811, 1.3582, 1.1536,\n",
      "        1.6031, 0.8818, 1.1173, 1.2584, 1.2405, 1.2373, 0.8187, 1.0839, 0.8961,\n",
      "        1.4895, 0.7118, 1.2391, 1.4980, 1.4263, 1.1253, 1.1090, 0.7399, 0.8571,\n",
      "        1.7904, 1.0496, 0.9939, 1.2488, 0.6102, 1.7373, 0.8694, 0.7928, 1.2557,\n",
      "        0.9509, 1.2047, 0.3726, 1.1395, 0.6725, 1.0085, 0.6605, 1.1487, 1.2015,\n",
      "        0.6910, 1.0520], dtype=torch.float64), 'X': tensor([235933.7500, 235721.2500, 235358.7500, 236098.7500, 235773.7500,\n",
      "        235528.7500, 235741.2500, 236028.7500, 235593.7500, 235696.2500,\n",
      "        235796.2500, 236066.2500, 235388.7500, 235983.7500, 235438.7500,\n",
      "        235833.7500, 235596.2500, 235811.2500, 236003.7500, 235553.7500,\n",
      "        235688.7500, 235606.2500, 235968.7500, 235788.7500, 235653.7500,\n",
      "        235396.2500, 235521.2500, 235898.7500, 235696.2500, 235663.7500,\n",
      "        235883.7500, 235906.2500, 236011.2500, 236021.2500, 235541.2500,\n",
      "        235773.7500, 235741.2500, 235703.7500, 235866.2500, 235838.7500,\n",
      "        235571.2500, 235721.2500, 235518.7500, 235648.7500, 235648.7500,\n",
      "        236111.2500, 235581.2500, 235941.2500, 235528.7500, 236101.2500,\n",
      "        235718.7500, 235381.2500, 235716.2500, 235831.2500, 236063.7500,\n",
      "        236073.7500, 235888.7500, 236046.2500, 235801.2500, 235648.7500,\n",
      "        235778.7500, 235528.7500, 235648.7500, 235713.7500, 235648.7500,\n",
      "        236021.2500, 235681.2500, 235543.7500, 236056.2500, 235806.2500,\n",
      "        235846.2500, 235706.2500, 235748.7500, 235481.2500, 235843.7500,\n",
      "        235696.2500, 235608.7500, 235946.2500, 235726.2500, 235851.2500,\n",
      "        235821.2500, 235921.2500, 235676.2500, 235521.2500, 235806.2500,\n",
      "        235648.7500, 235491.2500, 235936.2500, 235736.2500, 235781.2500,\n",
      "        235713.7500, 236016.2500, 235871.2500, 235781.2500, 235886.2500,\n",
      "        235406.2500, 235666.2500, 235821.2500, 235438.7500, 235776.2500,\n",
      "        235476.2500, 235838.7500, 236066.2500, 235726.2500, 235591.2500,\n",
      "        235728.7500, 235488.7500, 235978.7500, 235388.7500, 235568.7500,\n",
      "        235733.7500, 235688.7500, 235738.7500, 235961.2500, 236021.2500,\n",
      "        236008.7500, 236018.7500, 235973.7500, 235698.7500, 235948.7500,\n",
      "        235761.2500, 235963.7500, 235713.7500, 235803.7500, 236071.2500,\n",
      "        235988.7500, 235621.2500, 235446.2500], dtype=torch.float64), 'Y': tensor([368453.7500, 368033.7500, 368193.7500, 368308.7500, 367881.2500,\n",
      "        368016.2500, 368523.7500, 368466.2500, 368496.2500, 367731.2500,\n",
      "        368176.2500, 368306.2500, 368253.7500, 368163.7500, 368186.2500,\n",
      "        368646.2500, 368656.2500, 368118.7500, 368423.7500, 367958.7500,\n",
      "        367813.7500, 367866.2500, 367793.7500, 368063.7500, 368346.2500,\n",
      "        368133.7500, 368521.2500, 368126.2500, 368551.2500, 368453.7500,\n",
      "        367938.7500, 368613.7500, 368403.7500, 368406.2500, 368591.2500,\n",
      "        367838.7500, 368593.7500, 367868.7500, 368191.2500, 368541.2500,\n",
      "        368598.7500, 368453.7500, 368046.2500, 368603.7500, 368606.2500,\n",
      "        368186.2500, 368086.2500, 367738.7500, 367971.2500, 368026.2500,\n",
      "        368053.7500, 368116.2500, 368676.2500, 367991.2500, 368393.7500,\n",
      "        368021.2500, 368283.7500, 368233.7500, 368151.2500, 368123.7500,\n",
      "        368578.7500, 368468.7500, 368321.2500, 368481.2500, 368301.2500,\n",
      "        368103.7500, 368706.2500, 368078.7500, 367866.2500, 367851.2500,\n",
      "        368033.7500, 368266.2500, 368031.2500, 368276.2500, 368613.7500,\n",
      "        368283.7500, 368013.7500, 368563.7500, 368746.2500, 367781.2500,\n",
      "        368131.2500, 368476.2500, 367823.7500, 368013.7500, 367888.7500,\n",
      "        368161.2500, 368391.2500, 368466.2500, 367923.7500, 368661.2500,\n",
      "        367726.2500, 368173.7500, 368241.2500, 368488.7500, 367716.2500,\n",
      "        368051.2500, 368088.7500, 368643.7500, 368361.2500, 368703.7500,\n",
      "        368111.2500, 368056.2500, 367941.2500, 368273.7500, 368623.7500,\n",
      "        368138.7500, 368031.2500, 368171.2500, 368086.2500, 368478.7500,\n",
      "        368348.7500, 368323.7500, 368608.7500, 368458.7500, 368363.7500,\n",
      "        368121.2500, 368293.7500, 367758.7500, 368308.7500, 368261.2500,\n",
      "        368188.7500, 368166.2500, 367773.7500, 368403.7500, 368211.2500,\n",
      "        368263.7500, 367963.7500, 368241.2500], dtype=torch.float64), 'id': tensor([220439, 174367,  95423, 256401, 185852, 132486, 178523, 241106, 146438,\n",
      "        169048, 190630, 249330, 101927, 231435, 112834, 198602, 146918, 193917,\n",
      "        235683, 137949, 167383, 149410, 228319, 189043, 159554, 103607, 130652,\n",
      "        212954, 168720, 161687, 209765, 214391, 237323, 239498, 134976, 185869,\n",
      "        178495, 170625, 205856, 199732, 141501, 174199, 130298, 158363, 158362,\n",
      "        259170, 143882, 222357, 132504, 257058, 173815, 100350, 173022, 198320,\n",
      "        248751, 251076, 210715, 245007, 191728, 158555, 186661, 132305, 158476,\n",
      "        172556, 158484, 239619, 165394, 135725, 247330, 192936, 201567, 171010,\n",
      "        180352, 122046, 200791, 168827, 149895, 223115, 175170, 202756, 196088,\n",
      "        217710, 164659, 130855, 192921, 158540, 124176, 220978, 177675, 187172,\n",
      "        172858, 238503, 206924, 187241, 210398, 105816, 162377, 195883, 112764,\n",
      "        186067, 121024, 199926, 249476, 175359, 145843, 175957, 123776, 230344,\n",
      "        101994, 141005, 176961, 167179, 177945, 226421, 239515, 236892, 238999,\n",
      "        229421, 169361, 223780, 183009, 227082, 172839, 192171, 250456, 232483,\n",
      "        152635, 114444])}\n"
     ]
    }
   ],
   "source": [
    "batch_size = 128\n",
    "train_sampler = torch.utils.data.RandomSampler(train, num_samples=len(train))\n",
    "train_loader = torch.utils.data.DataLoader(\n",
    "    train,\n",
    "    sampler=train_sampler,\n",
    "    batch_size=batch_size,\n",
    ")\n",
    "test_loader = torch.utils.data.DataLoader(\n",
    "    test,\n",
    "    sampler=None,\n",
    "    batch_size=batch_size,\n",
    ")\n",
    "\n",
    "for i, batch in enumerate(train_loader):\n",
    "  print(batch)\n",
    "  break"
   ]
  },
  {
   "cell_type": "markdown",
   "id": "6b0eb67a-c56d-46d8-aa2d-6914ab393056",
   "metadata": {},
   "source": [
    "We'll use the TabularRegressor class to define a neural network with two hidden layers. The first hidden layer has 64 neurons, and the second hidden layer has 32 neurons. Both layers use the ReLU activation function. The final layer is a linear layer that outputs a single value for regression.\n",
    "\n",
    "The forward method defines the forward pass of the model, where the input features are passed through the hidden layers and activation functions, and finally through the regression layer to produce the output."
   ]
  },
  {
   "cell_type": "code",
   "execution_count": 6,
   "id": "820a5a2f-d06a-4664-9c24-ead249e1cab9",
   "metadata": {},
   "outputs": [],
   "source": [
    "# Defining the model\n",
    "\n",
    "class TabularRegressor(torch.nn.Module): # Define a simple feedforward neural network\n",
    "    def __init__(self, input_dim): # Define the model's architecture\n",
    "        super(TabularRegressor, self).__init__()  # Call the parent class's constructor\n",
    "        self.hidden1 = torch.nn.Linear(input_dim, 64) # Define the first hidden layer\n",
    "        self.hidden2 = torch.nn.Linear(64, 32) # Define the second hidden layer\n",
    "        self.relu = torch.nn.ReLU() # Define the activation function\n",
    "        self.regressor = torch.nn.Linear(32, 1) # Define the output layer\n",
    "\n",
    "    def forward(self, features): # Define the forward pass\n",
    "        x = self.hidden1(features) # Pass the input through the first hidden layer\n",
    "        x = self.relu(x) # Apply the activation function\n",
    "        x = self.hidden2(x) # Pass the input through the second hidden layer\n",
    "        x = self.relu(x) # Apply the activation function\n",
    "        x = self.regressor(x) # Pass the input through the output layer\n",
    "        return x # Return the output\n",
    "\n",
    "# Extract feature names and target name\n",
    "feature_names = ['Aspect', 'Slope', 'WindSpeed']\n",
    "target_name = 'BareSand_it1'"
   ]
  },
  {
   "cell_type": "markdown",
   "id": "828fa079-b764-4868-95a1-549c9d3d1ad1",
   "metadata": {},
   "source": [
    "The model is initialized and trained on 5 epochs of the training data. Predictions are then made on the test set and the MSE and R-squared metrics are computed for both sets of data.   "
   ]
  },
  {
   "cell_type": "code",
   "execution_count": 7,
   "id": "6c74bb1a-c9fd-4557-aeff-7a4a4dfcfe69",
   "metadata": {},
   "outputs": [
    {
     "name": "stdout",
     "output_type": "stream",
     "text": [
      "Training...\n"
     ]
    },
    {
     "name": "stderr",
     "output_type": "stream",
     "text": [
      "100%|██████████| 582/582 [00:13<00:00, 42.70it/s]\n"
     ]
    },
    {
     "name": "stdout",
     "output_type": "stream",
     "text": [
      "Epoch 1/5, Loss: 422.1122\n"
     ]
    },
    {
     "name": "stderr",
     "output_type": "stream",
     "text": [
      "100%|██████████| 582/582 [00:11<00:00, 49.73it/s]\n"
     ]
    },
    {
     "name": "stdout",
     "output_type": "stream",
     "text": [
      "Epoch 2/5, Loss: 403.4629\n"
     ]
    },
    {
     "name": "stderr",
     "output_type": "stream",
     "text": [
      "100%|██████████| 582/582 [00:11<00:00, 49.35it/s]\n"
     ]
    },
    {
     "name": "stdout",
     "output_type": "stream",
     "text": [
      "Epoch 3/5, Loss: 400.4132\n"
     ]
    },
    {
     "name": "stderr",
     "output_type": "stream",
     "text": [
      "100%|██████████| 582/582 [00:12<00:00, 45.11it/s]\n"
     ]
    },
    {
     "name": "stdout",
     "output_type": "stream",
     "text": [
      "Epoch 4/5, Loss: 397.6301\n"
     ]
    },
    {
     "name": "stderr",
     "output_type": "stream",
     "text": [
      "100%|██████████| 582/582 [00:11<00:00, 50.11it/s]\n"
     ]
    },
    {
     "name": "stdout",
     "output_type": "stream",
     "text": [
      "Epoch 5/5, Loss: 396.2375\n",
      "Training R-squared: 0.1471\n",
      "Testing...\n"
     ]
    },
    {
     "name": "stderr",
     "output_type": "stream",
     "text": [
      "100%|██████████| 194/194 [00:10<00:00, 18.87it/s]"
     ]
    },
    {
     "name": "stdout",
     "output_type": "stream",
     "text": [
      "\n",
      "Mean Squared Error: 381.7239\n",
      "R-squared: 0.1644\n"
     ]
    },
    {
     "name": "stderr",
     "output_type": "stream",
     "text": [
      "\n"
     ]
    }
   ],
   "source": [
    "# Model initialization\n",
    "input_dim = len(feature_names) # Number of input features\n",
    "model = TabularRegressor(input_dim) # Initialize the model\n",
    "optimizer = torch.optim.Adam(model.parameters()) # Initialize the optimizer\n",
    "loss_function = torch.nn.MSELoss() # Initialize the loss function\n",
    "\n",
    "num_epochs = 5  # number of times the training loop iterates over the whole training data\n",
    "\n",
    "print('Training...')\n",
    "model.train() # Set the model to training mode\n",
    "all_train_targets = []\n",
    "all_train_predictions = []\n",
    "for epoch in range(num_epochs):\n",
    "    epoch_loss = 0\n",
    "    for example in tqdm(train_loader): #  training data is loaded in batches using train_loader\n",
    "        features = torch.stack([example[feature] for feature in feature_names], dim=1).float()\n",
    "        target = example[target_name].unsqueeze(dim=1).float()\n",
    "        prediction = model(features) # input features are passed through the model to obtain predictions.\n",
    "        loss = loss_function(prediction, target) # loss calculated using the MSE loss function\n",
    "        optimizer.zero_grad()\n",
    "        loss.backward() # gradients are computed using backpropagation\n",
    "        optimizer.step() # model parameters are updated using the optimizer\n",
    "        epoch_loss += loss.item()\n",
    "        all_train_targets.extend(target.squeeze().tolist())\n",
    "        all_train_predictions.extend(prediction.squeeze().tolist())\n",
    "\n",
    "    epoch_loss /= len(train_loader) # loss for each epoch is calculated\n",
    "    print(f'Epoch {epoch+1}/{num_epochs}, Loss: {epoch_loss:.4f}')\n",
    "\n",
    "train_r2 = r2_score(all_train_targets, all_train_predictions)\n",
    "print(f'Training R-squared: {train_r2:.4f}')\n",
    "\n",
    "print('Testing...') # Testing the model on the test data\n",
    "model.eval() # Set the model to evaluation mode\n",
    "total_loss = 0\n",
    "num_examples = 0\n",
    "all_targets = []\n",
    "all_predictions = []\n",
    "for example in tqdm(test_loader): # test data is loaded in batches using test_loader\n",
    "    features = torch.stack([example[feature] for feature in feature_names], dim=1).float()\n",
    "    target = example[target_name].unsqueeze(dim=1).float()\n",
    "    prediction = model(features) # input features are passed through the model to obtain predictions.\n",
    "    loss = loss_function(prediction, target) # loss calculated using the MSE loss function\n",
    "    total_loss += loss.item() * features.shape[0]\n",
    "    num_examples += features.shape[0]\n",
    "    all_targets.extend(target.squeeze().tolist())\n",
    "    all_predictions.extend(prediction.squeeze().tolist())\n",
    "\n",
    "mean_squared_error = total_loss / num_examples\n",
    "r2 = r2_score(all_targets, all_predictions)\n",
    "print(f'\\nMean Squared Error: {mean_squared_error:.4f}')\n",
    "print(f'R-squared: {r2:.4f}')"
   ]
  },
  {
   "cell_type": "markdown",
   "id": "fb2ce609-cf7a-43c2-adea-79da22797b3e",
   "metadata": {},
   "source": [
    "The MSE and R-squared performance metrics are poor, which is as expected as we're not trying to demonstrate sensible scientific research but just how the data can be loaded an put through a ML pipeline using the Croissant format."
   ]
  }
 ],
 "metadata": {
  "kernelspec": {
   "display_name": "ml-croissant-tf",
   "language": "python",
   "name": "ml-croissant-tf-python"
  },
  "language_info": {
   "codemirror_mode": {
    "name": "ipython",
    "version": 3
   },
   "file_extension": ".py",
   "mimetype": "text/x-python",
   "name": "python",
   "nbconvert_exporter": "python",
   "pygments_lexer": "ipython3",
   "version": "3.11.11"
  }
 },
 "nbformat": 4,
 "nbformat_minor": 5
}
